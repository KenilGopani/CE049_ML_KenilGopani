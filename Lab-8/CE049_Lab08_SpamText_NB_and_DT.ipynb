{
  "cells": [
    {
      "cell_type": "markdown",
      "source": [
        "## Name: Gopani Kenil G. \n",
        "## Roll No: CE049 \n",
        "## ID: 19CEUOS080\n",
        "##  Lab-8"
      ],
      "metadata": {
        "id": "hdrxdtRi2uWF"
      },
      "id": "hdrxdtRi2uWF"
    },
    {
      "cell_type": "code",
      "execution_count": 9,
      "id": "9799811c",
      "metadata": {
        "id": "9799811c"
      },
      "outputs": [],
      "source": [
        "import pandas as pd\n",
        "from tensorflow.keras.preprocessing.text import Tokenizer\n",
        "from tensorflow.keras.preprocessing.sequence import pad_sequences\n",
        "from sklearn.feature_extraction.text import CountVectorizer, TfidfVectorizer\n",
        "from sklearn.preprocessing import LabelEncoder\n",
        "from sklearn.naive_bayes import MultinomialNB\n",
        "from sklearn.model_selection import train_test_split\n",
        "from sklearn import metrics\n",
        "from sklearn.tree import DecisionTreeClassifier"
      ]
    },
    {
      "cell_type": "code",
      "execution_count": 10,
      "id": "4a597ac0",
      "metadata": {
        "colab": {
          "base_uri": "https://localhost:8080/"
        },
        "id": "4a597ac0",
        "outputId": "11f15e3c-64a7-4eb5-d10c-a2daafd3abf7"
      },
      "outputs": [
        {
          "output_type": "stream",
          "name": "stdout",
          "text": [
            "[nltk_data] Downloading package stopwords to /root/nltk_data...\n",
            "[nltk_data]   Package stopwords is already up-to-date!\n",
            "{'doing', 'll', \"couldn't\", 'those', \"you're\", 'my', 'theirs', 'doesn', 'herself', 'did', 'nor', 'over', 'so', 'under', 'here', 'for', 'not', 'she', 'again', 've', 'a', 'further', 'have', 'her', 'should', 'ourselves', 'his', 'you', 'yourself', 'only', 'just', 'shouldn', 'needn', 'y', 'i', 'is', 'these', \"it's\", 'are', 'shan', 'off', 'ours', 'ain', 'them', \"aren't\", 'after', 'but', 'has', 'ma', 'who', 'until', 'with', \"you'd\", \"she's\", 'didn', 'he', 'than', \"don't\", 'on', 'then', \"you'll\", 'it', 'more', 'having', 'that', 'hadn', \"that'll\", 'own', 'hers', 'be', 'wouldn', 'we', 'm', \"isn't\", 'themselves', 'before', 'against', 'between', 'an', 'at', \"mustn't\", 'me', \"wasn't\", 'your', 'or', 'himself', 'they', \"weren't\", 'yourselves', 'had', 'what', 'any', 'how', 'd', 'the', 'when', 'why', 'isn', \"mightn't\", 'all', 'been', 'no', 'some', 'each', 'while', \"hasn't\", \"won't\", 'being', 'mustn', \"didn't\", 'in', \"should've\", 'to', \"hadn't\", 'was', 'because', 'into', 'once', 'down', \"you've\", 'our', 'myself', 'don', 'below', 'by', 're', 't', 'aren', 'won', 'up', \"wouldn't\", 'too', 'will', 'there', \"doesn't\", 'their', 'can', 'yours', 'were', 'very', \"shan't\", \"shouldn't\", 'which', 'this', 'does', 'weren', 'whom', \"needn't\", 'of', 'o', 'such', 'hasn', 'above', 'through', 'now', 'if', 'same', 'mightn', 'from', 'most', 's', 'other', 'haven', 'him', 'both', 'itself', 'few', 'where', 'do', 'out', 'am', 'during', 'and', 'about', 'couldn', 'as', 'its', 'wasn', \"haven't\"}\n"
          ]
        }
      ],
      "source": [
        "import nltk\n",
        "from nltk.corpus import stopwords\n",
        "\n",
        "nltk.download('stopwords')\n",
        "stop_words = set(stopwords.words('english'))\n",
        "print(stop_words)"
      ]
    },
    {
      "cell_type": "code",
      "execution_count": 11,
      "id": "7acefa45",
      "metadata": {
        "colab": {
          "base_uri": "https://localhost:8080/"
        },
        "id": "7acefa45",
        "outputId": "05356502-847e-47c3-84cc-50d40e1cf186"
      },
      "outputs": [
        {
          "output_type": "stream",
          "name": "stdout",
          "text": [
            "\n",
            "Data :\n",
            "         v1                                                 v2\n",
            "0      ham  Go until jurong point, crazy.. Available only ...\n",
            "1      ham                      Ok lar... Joking wif u oni...\n",
            "2     spam  Free entry in 2 a wkly comp to win FA Cup fina...\n",
            "3      ham  U dun say so early hor... U c already then say...\n",
            "4      ham  Nah I don't think he goes to usf, he lives aro...\n",
            "...    ...                                                ...\n",
            "5567  spam  This is the 2nd time we have tried 2 contact u...\n",
            "5568   ham              Will �_ b going to esplanade fr home?\n",
            "5569   ham  Pity, * was in mood for that. So...any other s...\n",
            "5570   ham  The guy did some bitching but I acted like i'd...\n",
            "5571   ham                         Rofl. Its true to its name\n",
            "\n",
            "[5572 rows x 2 columns]\n",
            "<class 'pandas.core.frame.DataFrame'>\n",
            "RangeIndex: 5572 entries, 0 to 5571\n",
            "Data columns (total 2 columns):\n",
            " #   Column  Non-Null Count  Dtype \n",
            "---  ------  --------------  ----- \n",
            " 0   v1      5572 non-null   object\n",
            " 1   v2      5572 non-null   object\n",
            "dtypes: object(2)\n",
            "memory usage: 87.2+ KB\n",
            "\n",
            "Data statistics\n",
            " None\n"
          ]
        }
      ],
      "source": [
        "datasets = pd.read_csv('spam2.csv')\n",
        "\n",
        "print(\"\\nData :\\n\",datasets)\n",
        "print(\"\\nData statistics\\n\",datasets.info())"
      ]
    },
    {
      "cell_type": "code",
      "execution_count": 12,
      "id": "a77101e7",
      "metadata": {
        "id": "a77101e7"
      },
      "outputs": [],
      "source": [
        "features = datasets['v2']\n",
        "target = datasets['v1']"
      ]
    },
    {
      "cell_type": "markdown",
      "id": "0eb24341",
      "metadata": {
        "id": "0eb24341"
      },
      "source": [
        "## Count Vectorization"
      ]
    },
    {
      "cell_type": "code",
      "execution_count": 13,
      "id": "ace70b05",
      "metadata": {
        "colab": {
          "base_uri": "https://localhost:8080/"
        },
        "id": "ace70b05",
        "outputId": "0942af22-be34-41e6-931a-c3e2b13e25fc"
      },
      "outputs": [
        {
          "output_type": "stream",
          "name": "stdout",
          "text": [
            "(5572, 8489)\n"
          ]
        },
        {
          "output_type": "execute_result",
          "data": {
            "text/plain": [
              "array([[0, 0, 0, ..., 0, 0, 0],\n",
              "       [0, 0, 0, ..., 0, 0, 0],\n",
              "       [0, 0, 0, ..., 0, 0, 0],\n",
              "       ...,\n",
              "       [0, 0, 0, ..., 0, 0, 0],\n",
              "       [0, 0, 0, ..., 0, 0, 0],\n",
              "       [0, 0, 0, ..., 0, 0, 0]])"
            ]
          },
          "metadata": {},
          "execution_count": 13
        }
      ],
      "source": [
        "CountVec = CountVectorizer(ngram_range=(1,1), stop_words=stop_words)\n",
        "\n",
        "#transform\n",
        "Count_data = CountVec.fit_transform(features)\n",
        "print(Count_data.shape)\n",
        "Count_data.toarray()"
      ]
    },
    {
      "cell_type": "code",
      "execution_count": 14,
      "id": "f1327a38",
      "metadata": {
        "colab": {
          "base_uri": "https://localhost:8080/"
        },
        "id": "f1327a38",
        "outputId": "aed0c9a1-67f6-4ff9-cb4d-0473b2ec6757"
      },
      "outputs": [
        {
          "output_type": "stream",
          "name": "stdout",
          "text": [
            "      00  000  000pes  008704050406  0089  ...  zoe  zogtorius  zoom  zouk  zyada\n",
            "0      0    0       0             0     0  ...    0          0     0     0      0\n",
            "1      0    0       0             0     0  ...    0          0     0     0      0\n",
            "2      0    0       0             0     0  ...    0          0     0     0      0\n",
            "3      0    0       0             0     0  ...    0          0     0     0      0\n",
            "4      0    0       0             0     0  ...    0          0     0     0      0\n",
            "...   ..  ...     ...           ...   ...  ...  ...        ...   ...   ...    ...\n",
            "5567   0    0       0             0     0  ...    0          0     0     0      0\n",
            "5568   0    0       0             0     0  ...    0          0     0     0      0\n",
            "5569   0    0       0             0     0  ...    0          0     0     0      0\n",
            "5570   0    0       0             0     0  ...    0          0     0     0      0\n",
            "5571   0    0       0             0     0  ...    0          0     0     0      0\n",
            "\n",
            "[5572 rows x 8489 columns]\n"
          ]
        },
        {
          "output_type": "stream",
          "name": "stderr",
          "text": [
            "/usr/local/lib/python3.7/dist-packages/sklearn/utils/deprecation.py:87: FutureWarning: Function get_feature_names is deprecated; get_feature_names is deprecated in 1.0 and will be removed in 1.2. Please use get_feature_names_out instead.\n",
            "  warnings.warn(msg, category=FutureWarning)\n"
          ]
        }
      ],
      "source": [
        "#create dataframe\n",
        "cv_dataframe=pd.DataFrame(Count_data.toarray(),columns=CountVec.get_feature_names())\n",
        "print(cv_dataframe)"
      ]
    },
    {
      "cell_type": "code",
      "execution_count": 15,
      "id": "1cc3a1d9",
      "metadata": {
        "colab": {
          "base_uri": "https://localhost:8080/"
        },
        "id": "1cc3a1d9",
        "outputId": "ce1f45db-45ed-41cc-e5d1-73a75f426196"
      },
      "outputs": [
        {
          "output_type": "stream",
          "name": "stdout",
          "text": [
            "0        ham\n",
            "1        ham\n",
            "2       spam\n",
            "3        ham\n",
            "4        ham\n",
            "        ... \n",
            "5567    spam\n",
            "5568     ham\n",
            "5569     ham\n",
            "5570     ham\n",
            "5571     ham\n",
            "Name: v1, Length: 5572, dtype: object\n",
            "\n",
            "[0 0 1 ... 0 0 0]\n"
          ]
        }
      ],
      "source": [
        "le = LabelEncoder()\n",
        "target_encoded = le.fit_transform(target)\n",
        "print(target)\n",
        "print()\n",
        "print(target_encoded)"
      ]
    },
    {
      "cell_type": "code",
      "execution_count": 16,
      "id": "fbec746b",
      "metadata": {
        "id": "fbec746b"
      },
      "outputs": [],
      "source": [
        "# Splitting data\n",
        "x_train, x_test, y_train, y_test = train_test_split(cv_dataframe, target_encoded, test_size=0.20, random_state=49)"
      ]
    },
    {
      "cell_type": "code",
      "execution_count": 17,
      "id": "5fc2d5ad",
      "metadata": {
        "colab": {
          "base_uri": "https://localhost:8080/"
        },
        "id": "5fc2d5ad",
        "outputId": "e2fa64de-0745-4b73-dabc-82eccbc0bad4"
      },
      "outputs": [
        {
          "output_type": "stream",
          "name": "stdout",
          "text": [
            "Accuracy:  0.9811659192825112\n"
          ]
        }
      ],
      "source": [
        "nb_classifier = MultinomialNB()\n",
        "nb_classifier.fit(x_train,y_train)\n",
        "\n",
        "y_pred_nb = nb_classifier.predict(x_test)\n",
        "\n",
        "print(\"Accuracy: \", metrics.accuracy_score(y_pred_nb, y_test))"
      ]
    },
    {
      "cell_type": "code",
      "execution_count": 18,
      "id": "f63a5194",
      "metadata": {
        "colab": {
          "base_uri": "https://localhost:8080/"
        },
        "id": "f63a5194",
        "outputId": "955b0e45-e90d-4ca9-bc38-54f4a1d1aa5c"
      },
      "outputs": [
        {
          "output_type": "stream",
          "name": "stdout",
          "text": [
            "Accuracy:  0.9704035874439462\n"
          ]
        }
      ],
      "source": [
        "dt_classifier = DecisionTreeClassifier()\n",
        "dt_classifier.fit(x_train,y_train)\n",
        "\n",
        "y_pred_dt = dt_classifier.predict(x_test)\n",
        "\n",
        "print(\"Accuracy: \", metrics.accuracy_score(y_pred_dt, y_test))"
      ]
    },
    {
      "cell_type": "markdown",
      "id": "488f8f27",
      "metadata": {
        "id": "488f8f27"
      },
      "source": [
        "## IF-TDF"
      ]
    },
    {
      "cell_type": "code",
      "execution_count": 19,
      "id": "1fda11e8",
      "metadata": {
        "colab": {
          "base_uri": "https://localhost:8080/"
        },
        "id": "1fda11e8",
        "outputId": "ff34325e-0425-4476-96fc-23be390690c5"
      },
      "outputs": [
        {
          "output_type": "stream",
          "name": "stdout",
          "text": [
            "(5572, 8489)\n"
          ]
        },
        {
          "output_type": "execute_result",
          "data": {
            "text/plain": [
              "array([[0., 0., 0., ..., 0., 0., 0.],\n",
              "       [0., 0., 0., ..., 0., 0., 0.],\n",
              "       [0., 0., 0., ..., 0., 0., 0.],\n",
              "       ...,\n",
              "       [0., 0., 0., ..., 0., 0., 0.],\n",
              "       [0., 0., 0., ..., 0., 0., 0.],\n",
              "       [0., 0., 0., ..., 0., 0., 0.]])"
            ]
          },
          "metadata": {},
          "execution_count": 19
        }
      ],
      "source": [
        "tfidf = TfidfVectorizer(norm = None, stop_words=stop_words)\n",
        "\n",
        "# transform\n",
        "tfidf_data = tfidf.fit_transform(features)\n",
        "print(tfidf_data.shape)\n",
        "tfidf_data.toarray()"
      ]
    },
    {
      "cell_type": "code",
      "execution_count": 20,
      "id": "6592cfd7",
      "metadata": {
        "colab": {
          "base_uri": "https://localhost:8080/"
        },
        "id": "6592cfd7",
        "outputId": "2fc19f38-29b5-4e4a-ddb5-dbf82be137fb"
      },
      "outputs": [
        {
          "output_type": "stream",
          "name": "stdout",
          "text": [
            "       00  000  000pes  008704050406  0089  ...  zoe  zogtorius  zoom  zouk  zyada\n",
            "0     0.0  0.0     0.0           0.0   0.0  ...  0.0        0.0   0.0   0.0    0.0\n",
            "1     0.0  0.0     0.0           0.0   0.0  ...  0.0        0.0   0.0   0.0    0.0\n",
            "2     0.0  0.0     0.0           0.0   0.0  ...  0.0        0.0   0.0   0.0    0.0\n",
            "3     0.0  0.0     0.0           0.0   0.0  ...  0.0        0.0   0.0   0.0    0.0\n",
            "4     0.0  0.0     0.0           0.0   0.0  ...  0.0        0.0   0.0   0.0    0.0\n",
            "...   ...  ...     ...           ...   ...  ...  ...        ...   ...   ...    ...\n",
            "5567  0.0  0.0     0.0           0.0   0.0  ...  0.0        0.0   0.0   0.0    0.0\n",
            "5568  0.0  0.0     0.0           0.0   0.0  ...  0.0        0.0   0.0   0.0    0.0\n",
            "5569  0.0  0.0     0.0           0.0   0.0  ...  0.0        0.0   0.0   0.0    0.0\n",
            "5570  0.0  0.0     0.0           0.0   0.0  ...  0.0        0.0   0.0   0.0    0.0\n",
            "5571  0.0  0.0     0.0           0.0   0.0  ...  0.0        0.0   0.0   0.0    0.0\n",
            "\n",
            "[5572 rows x 8489 columns]\n"
          ]
        },
        {
          "output_type": "stream",
          "name": "stderr",
          "text": [
            "/usr/local/lib/python3.7/dist-packages/sklearn/utils/deprecation.py:87: FutureWarning: Function get_feature_names is deprecated; get_feature_names is deprecated in 1.0 and will be removed in 1.2. Please use get_feature_names_out instead.\n",
            "  warnings.warn(msg, category=FutureWarning)\n"
          ]
        }
      ],
      "source": [
        "#create dataframe\n",
        "tfidf_dataframe=pd.DataFrame(tfidf_data.toarray(),columns=tfidf.get_feature_names())\n",
        "print(tfidf_dataframe)"
      ]
    },
    {
      "cell_type": "code",
      "execution_count": 21,
      "id": "c3b92e5d",
      "metadata": {
        "colab": {
          "base_uri": "https://localhost:8080/"
        },
        "id": "c3b92e5d",
        "outputId": "e8939307-2979-472d-febf-6104a2535f81"
      },
      "outputs": [
        {
          "output_type": "stream",
          "name": "stdout",
          "text": [
            "0        ham\n",
            "1        ham\n",
            "2       spam\n",
            "3        ham\n",
            "4        ham\n",
            "        ... \n",
            "5567    spam\n",
            "5568     ham\n",
            "5569     ham\n",
            "5570     ham\n",
            "5571     ham\n",
            "Name: v1, Length: 5572, dtype: object\n",
            "\n",
            "[0 0 1 ... 0 0 0]\n"
          ]
        }
      ],
      "source": [
        "le = LabelEncoder()\n",
        "target_encoded = le.fit_transform(target)\n",
        "print(target)\n",
        "print()\n",
        "print(target_encoded)"
      ]
    },
    {
      "cell_type": "code",
      "execution_count": 22,
      "id": "4e87a63e",
      "metadata": {
        "id": "4e87a63e"
      },
      "outputs": [],
      "source": [
        "# Splitting data\n",
        "x_train, x_test, y_train, y_test = train_test_split(cv_dataframe, target_encoded, test_size=0.20, random_state=49)"
      ]
    },
    {
      "cell_type": "code",
      "execution_count": 23,
      "id": "eb1aad02",
      "metadata": {
        "colab": {
          "base_uri": "https://localhost:8080/"
        },
        "id": "eb1aad02",
        "outputId": "40ccfde3-a7df-4f4b-a584-d63c29ce1b45"
      },
      "outputs": [
        {
          "output_type": "stream",
          "name": "stdout",
          "text": [
            "Accuracy:  0.9811659192825112\n"
          ]
        }
      ],
      "source": [
        "nb_classifier = MultinomialNB()\n",
        "nb_classifier.fit(x_train,y_train)\n",
        "\n",
        "y_pred_nb = nb_classifier.predict(x_test)\n",
        "\n",
        "print(\"Accuracy: \", metrics.accuracy_score(y_pred_nb, y_test))"
      ]
    },
    {
      "cell_type": "code",
      "execution_count": 24,
      "id": "ab78b5c4",
      "metadata": {
        "colab": {
          "base_uri": "https://localhost:8080/"
        },
        "id": "ab78b5c4",
        "outputId": "429bcefe-257b-43fe-998b-7c50b1624ee3"
      },
      "outputs": [
        {
          "output_type": "stream",
          "name": "stdout",
          "text": [
            "Accuracy:  0.9659192825112107\n"
          ]
        }
      ],
      "source": [
        "dt_classifier = DecisionTreeClassifier()\n",
        "dt_classifier.fit(x_train,y_train)\n",
        "\n",
        "y_pred_dt = dt_classifier.predict(x_test)\n",
        "\n",
        "print(\"Accuracy: \", metrics.accuracy_score(y_pred_dt, y_test))"
      ]
    },
    {
      "cell_type": "code",
      "execution_count": 24,
      "id": "9df7e289",
      "metadata": {
        "id": "9df7e289"
      },
      "outputs": [],
      "source": [
        ""
      ]
    }
  ],
  "metadata": {
    "kernelspec": {
      "display_name": "Python 3 (ipykernel)",
      "language": "python",
      "name": "python3"
    },
    "language_info": {
      "codemirror_mode": {
        "name": "ipython",
        "version": 3
      },
      "file_extension": ".py",
      "mimetype": "text/x-python",
      "name": "python",
      "nbconvert_exporter": "python",
      "pygments_lexer": "ipython3",
      "version": "3.9.7"
    },
    "colab": {
      "name": "CE049_Lab08_SpamText_NB_and_DT.ipynb",
      "provenance": [],
      "collapsed_sections": []
    }
  },
  "nbformat": 4,
  "nbformat_minor": 5
}