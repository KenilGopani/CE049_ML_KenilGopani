{
  "cells": [
    {
      "cell_type": "markdown",
      "metadata": {
        "id": "K7W9YNYMXdjJ"
      },
      "source": [
        "## Name: Gopani Kenil G. \n",
        "## Roll No: CE049 \n",
        "## ID: 19CEUOS080\n",
        "##  Lab-4\n",
        "\n",
        "### Task 1: \n",
        "### Linear regression model from scratch"
      ]
    },
    {
      "cell_type": "code",
      "execution_count": null,
      "metadata": {
        "id": "PtvoV5yzXe5h"
      },
      "outputs": [],
      "source": [
        "import numpy as np\n",
        "import torch"
      ]
    },
    {
      "cell_type": "code",
      "execution_count": null,
      "metadata": {
        "id": "-ku4k8iuXnuy"
      },
      "outputs": [],
      "source": [
        "inputs = np.array([[73, 67, 43],\n",
        "                   [91, 88, 64],\n",
        "                   [87, 134, 58],\n",
        "                   [102, 43, 37],\n",
        "                   [69, 96, 70]], dtype='float32')\n",
        "\n",
        "targets = np.array([[56],[81],[119],[22],[103]], dtype='float32')"
      ]
    },
    {
      "cell_type": "code",
      "execution_count": null,
      "metadata": {
        "id": "RTrIod4cX3eq"
      },
      "outputs": [],
      "source": [
        "inputs = torch.from_numpy(inputs)\n",
        "targets = torch.from_numpy(targets)"
      ]
    },
    {
      "cell_type": "code",
      "execution_count": null,
      "metadata": {
        "id": "ftDc_bXVX6O6"
      },
      "outputs": [],
      "source": [
        "weight = torch.randn(2, 3, requires_grad=True)\n",
        "bias = torch.randn(2, requires_grad=True)"
      ]
    },
    {
      "cell_type": "code",
      "execution_count": null,
      "metadata": {
        "colab": {
          "base_uri": "https://localhost:8080/"
        },
        "id": "z8T_SGm3X8oS",
        "outputId": "63492221-ef9c-4459-e906-f23374ff6be7"
      },
      "outputs": [
        {
          "output_type": "execute_result",
          "data": {
            "text/plain": [
              "tensor([[   5.7145, -141.5049],\n",
              "        [ -10.8321, -185.2172],\n",
              "        [ -58.7568, -230.6388],\n",
              "        [  90.0214, -133.2933],\n",
              "        [ -65.8789, -180.7875]], grad_fn=<AddBackward0>)"
            ]
          },
          "metadata": {},
          "execution_count": 34
        }
      ],
      "source": [
        "inputs @ weight.t() + bias"
      ]
    },
    {
      "cell_type": "code",
      "execution_count": null,
      "metadata": {
        "id": "W8YjLyR6X_QB"
      },
      "outputs": [],
      "source": [
        "def model(inputs):\n",
        "    return inputs @ weight.t() + bias"
      ]
    },
    {
      "cell_type": "code",
      "execution_count": null,
      "metadata": {
        "colab": {
          "base_uri": "https://localhost:8080/"
        },
        "id": "NJAYvie_YDVd",
        "outputId": "ba1fdfa0-8768-4c1e-8139-8ec51b2aca78"
      },
      "outputs": [
        {
          "output_type": "stream",
          "name": "stdout",
          "text": [
            "tensor([[   5.7145, -141.5049],\n",
            "        [ -10.8321, -185.2172],\n",
            "        [ -58.7568, -230.6388],\n",
            "        [  90.0214, -133.2933],\n",
            "        [ -65.8789, -180.7875]], grad_fn=<AddBackward0>)\n"
          ]
        }
      ],
      "source": [
        "prediction = model(inputs)\n",
        "print(prediction)"
      ]
    },
    {
      "cell_type": "markdown",
      "metadata": {
        "id": "p7H81GMaYIOy"
      },
      "source": [
        "### Loss function"
      ]
    },
    {
      "cell_type": "code",
      "execution_count": null,
      "metadata": {
        "id": "iK2MY4suYMqg"
      },
      "outputs": [],
      "source": [
        "# calculate loss\n",
        "\n",
        "def mse(t1, t2):\n",
        "    diff = t1 - t2\n",
        "    return torch.sum(diff * diff) / diff.numel()"
      ]
    },
    {
      "cell_type": "code",
      "execution_count": null,
      "metadata": {
        "colab": {
          "base_uri": "https://localhost:8080/"
        },
        "id": "gfc2mORhYSOR",
        "outputId": "f2c1ce5c-5f85-4cd7-a736-34a132005e3b"
      },
      "outputs": [
        {
          "output_type": "stream",
          "name": "stdout",
          "text": [
            "tensor(41248.4727, grad_fn=<DivBackward0>)\n"
          ]
        }
      ],
      "source": [
        "loss = mse(prediction, targets)\n",
        "print(loss)"
      ]
    },
    {
      "cell_type": "markdown",
      "metadata": {
        "id": "2aynhPfOYW9T"
      },
      "source": [
        "### Compute gradients"
      ]
    },
    {
      "cell_type": "code",
      "execution_count": null,
      "metadata": {
        "colab": {
          "base_uri": "https://localhost:8080/"
        },
        "id": "XCNVw9rOYX0r",
        "outputId": "dcd3d0dc-0dcc-4805-f2fe-284884307cdc"
      },
      "outputs": [
        {
          "output_type": "stream",
          "name": "stdout",
          "text": [
            "tensor([[ -6441.3740,  -9711.4434,  -5530.8320],\n",
            "        [-20896.6934, -23486.5527, -14284.1289]])\n",
            "tensor([ -84.1464, -250.4884])\n"
          ]
        }
      ],
      "source": [
        "loss.backward()\n",
        "print(weight.grad)\n",
        "print(bias.grad)"
      ]
    },
    {
      "cell_type": "markdown",
      "metadata": {
        "id": "U6ZWOYTKYbV7"
      },
      "source": [
        "### Train the model using gradient descent"
      ]
    },
    {
      "cell_type": "code",
      "execution_count": null,
      "metadata": {
        "id": "fx_8gQlSYdru"
      },
      "outputs": [],
      "source": [
        "for i in range(100):\n",
        "    prediction = model(inputs)\n",
        "    loss = mse(prediction, targets)\n",
        "    loss.backward()\n",
        "    with torch.no_grad():\n",
        "        weight -= weight.grad * 1e-5\n",
        "        bias -= bias.grad * 1e-5\n",
        "        weight.grad.zero_()\n",
        "        bias.grad.zero_()"
      ]
    },
    {
      "cell_type": "code",
      "execution_count": null,
      "metadata": {
        "colab": {
          "base_uri": "https://localhost:8080/"
        },
        "id": "iaR45nQfYvvG",
        "outputId": "e0685283-bc7f-4345-a84e-b72f5b30e960"
      },
      "outputs": [
        {
          "output_type": "stream",
          "name": "stdout",
          "text": [
            "tensor(1014.9232, grad_fn=<DivBackward0>)\n"
          ]
        }
      ],
      "source": [
        "prediction = model(inputs)\n",
        "loss = mse(prediction, targets)\n",
        "print(loss)"
      ]
    },
    {
      "cell_type": "code",
      "execution_count": null,
      "metadata": {
        "colab": {
          "base_uri": "https://localhost:8080/"
        },
        "id": "B9fmVZEkYzwy",
        "outputId": "92004de9-4bf3-4b79-ed9f-0f7846fb4c74"
      },
      "outputs": [
        {
          "output_type": "execute_result",
          "data": {
            "text/plain": [
              "tensor([[ 71.0020,  61.9493],\n",
              "        [ 82.1882,  84.5428],\n",
              "        [ 96.4928, 105.6886],\n",
              "        [ 99.9484,  48.9702],\n",
              "        [ 55.9880,  89.6744]], grad_fn=<AddBackward0>)"
            ]
          },
          "metadata": {},
          "execution_count": 42
        }
      ],
      "source": [
        "prediction"
      ]
    },
    {
      "cell_type": "code",
      "execution_count": null,
      "metadata": {
        "colab": {
          "base_uri": "https://localhost:8080/"
        },
        "id": "IQ0fNoATY1kK",
        "outputId": "3fdcfff8-cb8b-4fdc-88c9-188b74eb820f"
      },
      "outputs": [
        {
          "output_type": "execute_result",
          "data": {
            "text/plain": [
              "tensor([[ 56.],\n",
              "        [ 81.],\n",
              "        [119.],\n",
              "        [ 22.],\n",
              "        [103.]])"
            ]
          },
          "metadata": {},
          "execution_count": 43
        }
      ],
      "source": [
        "targets"
      ]
    }
  ],
  "metadata": {
    "colab": {
      "collapsed_sections": [],
      "name": "CE049_Lab04_Task01.ipynb",
      "provenance": []
    },
    "kernelspec": {
      "display_name": "Python 3 (ipykernel)",
      "language": "python",
      "name": "python3"
    },
    "language_info": {
      "codemirror_mode": {
        "name": "ipython",
        "version": 3
      },
      "file_extension": ".py",
      "mimetype": "text/x-python",
      "name": "python",
      "nbconvert_exporter": "python",
      "pygments_lexer": "ipython3",
      "version": "3.9.5"
    }
  },
  "nbformat": 4,
  "nbformat_minor": 0
}