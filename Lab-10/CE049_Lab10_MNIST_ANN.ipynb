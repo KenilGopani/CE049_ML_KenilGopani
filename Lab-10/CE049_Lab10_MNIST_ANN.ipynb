{
  "cells": [
    {
      "cell_type": "code",
      "execution_count": 15,
      "id": "26aae175",
      "metadata": {
        "id": "26aae175"
      },
      "outputs": [],
      "source": [
        "import torch\n",
        "import torch.nn as nn\n",
        "import numpy as np\n",
        "import pandas as pd\n",
        "import matplotlib.pyplot as plt\n",
        "\n",
        "from torch.autograd import Variable\n",
        "from torch.utils.data import DataLoader,TensorDataset\n",
        "import tensorflow\n",
        "from sklearn.model_selection import train_test_split"
      ]
    },
    {
      "cell_type": "code",
      "execution_count": 16,
      "id": "c88f1e3d",
      "metadata": {
        "colab": {
          "base_uri": "https://localhost:8080/"
        },
        "id": "c88f1e3d",
        "outputId": "ea3b8283-b26e-4a6b-8833-e4bd473b43cf"
      },
      "outputs": [
        {
          "output_type": "execute_result",
          "data": {
            "text/plain": [
              "((60000, 28, 28), (10000, 28, 28), (60000,), (10000,))"
            ]
          },
          "metadata": {},
          "execution_count": 16
        }
      ],
      "source": [
        "from tensorflow.keras.datasets import mnist\n",
        "(features_train, targets_train), (features_test, targets_test) = mnist.load_data()\n",
        "(features_train.shape, features_test.shape,targets_train.shape,targets_test.shape)"
      ]
    },
    {
      "cell_type": "code",
      "execution_count": 17,
      "id": "6b3b1029",
      "metadata": {
        "id": "6b3b1029"
      },
      "outputs": [],
      "source": [
        "# Convert to float32.\n",
        "features_train = np.array(features_train, np.float32)\n",
        "features_test = np.array(features_test, np.float32)"
      ]
    },
    {
      "cell_type": "code",
      "execution_count": 18,
      "id": "36093bcc",
      "metadata": {
        "colab": {
          "base_uri": "https://localhost:8080/"
        },
        "id": "36093bcc",
        "outputId": "f4650e7a-524b-4b71-9140-2805e841c695"
      },
      "outputs": [
        {
          "output_type": "execute_result",
          "data": {
            "text/plain": [
              "((60000, 784), (10000, 784))"
            ]
          },
          "metadata": {},
          "execution_count": 18
        }
      ],
      "source": [
        "# Flatten images to 1-D vector of 784 features (28*28).\n",
        "features_train_flattened = features_train.reshape(len(features_train),28*28)\n",
        "features_test_flattened = features_test.reshape(len(features_test),28*28)\n",
        "(features_train_flattened.shape, features_test_flattened.shape)"
      ]
    },
    {
      "cell_type": "code",
      "execution_count": 19,
      "id": "aebdbf09",
      "metadata": {
        "id": "aebdbf09"
      },
      "outputs": [],
      "source": [
        "# Normalize images value from [0, 255] to [0, 1].\n",
        "features_train_flattened = features_train_flattened / 255\n",
        "features_test_flattened = features_test_flattened / 255"
      ]
    },
    {
      "cell_type": "code",
      "execution_count": 20,
      "id": "53c7afca",
      "metadata": {
        "id": "53c7afca"
      },
      "outputs": [],
      "source": [
        "# create feature and targets tensor for train set. As you remember we need variable to accumulate gradients.\n",
        "features_train_flattened_tensor = torch.from_numpy(features_train_flattened)\n",
        "targets_train_tensor = torch.from_numpy(targets_train)"
      ]
    },
    {
      "cell_type": "code",
      "execution_count": 21,
      "id": "96785f78",
      "metadata": {
        "id": "96785f78"
      },
      "outputs": [],
      "source": [
        "# create feature and targets tensor for test set.\n",
        "features_test_flattened_tensor = torch.from_numpy(features_test_flattened)\n",
        "targets_test_tensor = torch.from_numpy(targets_test)"
      ]
    },
    {
      "cell_type": "code",
      "execution_count": 22,
      "id": "040ba7e3",
      "metadata": {
        "id": "040ba7e3"
      },
      "outputs": [],
      "source": [
        "# batch_size, epoch and iteration\n",
        "batch_size = 100\n",
        "n_iters = 5000\n",
        "num_epochs = n_iters / (len(features_train) / batch_size)\n",
        "num_epochs = int(num_epochs)"
      ]
    },
    {
      "cell_type": "code",
      "execution_count": 23,
      "id": "3b907b82",
      "metadata": {
        "id": "3b907b82"
      },
      "outputs": [],
      "source": [
        "# Pytorch train and test sets - Tensordataset\n",
        "train_data = TensorDataset(features_train_flattened_tensor,targets_train_tensor)\n",
        "test_data = TensorDataset(features_test_flattened_tensor,targets_test_tensor)"
      ]
    },
    {
      "cell_type": "code",
      "execution_count": 24,
      "id": "4a5c1a97",
      "metadata": {
        "id": "4a5c1a97"
      },
      "outputs": [],
      "source": [
        "# data loader\n",
        "train_loader = DataLoader(train_data,batch_size=batch_size,shuffle=False)\n",
        "test_loader = DataLoader(test_data,batch_size=batch_size,shuffle=False)\n"
      ]
    },
    {
      "cell_type": "code",
      "execution_count": 30,
      "id": "d0eb2883",
      "metadata": {
        "colab": {
          "base_uri": "https://localhost:8080/",
          "height": 282
        },
        "id": "d0eb2883",
        "outputId": "de9e9e3d-5a40-4d19-dd99-079a72b2f001"
      },
      "outputs": [
        {
          "output_type": "stream",
          "name": "stdout",
          "text": [
            "4\n"
          ]
        },
        {
          "output_type": "display_data",
          "data": {
            "text/plain": [
              "<Figure size 432x288 with 1 Axes>"
            ],
            "image/png": "[encoded data removed]"
          },
          "metadata": {
            "needs_background": "light"
          }
        }
      ],
      "source": [
        "# visualize one of the images in data set\n",
        "print(targets_train[2])\n",
        "plt.imshow(features_train[2])\n",
        "plt.show()"
      ]
    },
    {
      "cell_type": "code",
      "execution_count": 26,
      "id": "5189e53c",
      "metadata": {
        "colab": {
          "base_uri": "https://localhost:8080/"
        },
        "id": "5189e53c",
        "outputId": "647f25fd-f4d8-48ab-99a8-5e0280a30405"
      },
      "outputs": [
        {
          "output_type": "stream",
          "name": "stdout",
          "text": [
            "<generator object Module.parameters at 0x7f63350b1950>\n"
          ]
        }
      ],
      "source": [
        "# Create ANN Model\n",
        "class ANNModel(nn.Module):\n",
        "    def __init__(self, input_dim, hidden_dim, output_dim):\n",
        "        super(ANNModel, self).__init__()\n",
        "        \n",
        "        self.linear_func_1 = nn.Linear(input_dim, hidden_dim) \n",
        "        self.activation_func_1 = nn.ReLU()\n",
        "        \n",
        "        self.linear_func_2 = nn.Linear(hidden_dim, hidden_dim) \n",
        "        self.activation_func_2 = nn.ReLU()\n",
        "        \n",
        "        self.linear_func_3 = nn.Linear(hidden_dim, output_dim) \n",
        "    \n",
        "    def forward(self, x):\n",
        "        # Linear function 1\n",
        "        out = self.linear_func_1(x)\n",
        "        # Opti function 1\n",
        "        out = self.activation_func_1(out)\n",
        "        \n",
        "        # Linear function 2\n",
        "        out = self.linear_func_2(out)\n",
        "        # Non-linearity 2\n",
        "        out = self.activation_func_2(out)\n",
        "        \n",
        "        # Linear function 3\n",
        "        out = self.linear_func_3(out)\n",
        "        return out\n",
        "\n",
        "        \n",
        "\n",
        "# instantiate ANN\n",
        "input_dim = 28*28\n",
        "hidden_dim = 150 #hidden layer dim is one of the hyper parameter and it should be chosen and tuned. For now I only say 150 there is no reason.\n",
        "output_dim = 10\n",
        "\n",
        "# Create ANN\n",
        "model = ANNModel(input_dim, hidden_dim, output_dim)\n",
        "# Cross Entropy Loss\n",
        "error = nn.CrossEntropyLoss()\n",
        "# SGD Optimizer\n",
        "learning_rate = 0.02\n",
        "print(model.parameters())\n",
        "optimizer = torch.optim.SGD(model.parameters(), lr=learning_rate)"
      ]
    },
    {
      "cell_type": "code",
      "execution_count": 27,
      "id": "86769d26",
      "metadata": {
        "colab": {
          "base_uri": "https://localhost:8080/"
        },
        "id": "86769d26",
        "outputId": "dcd5775f-b95a-4ae0-cab9-04d084f498c1"
      },
      "outputs": [
        {
          "output_type": "stream",
          "name": "stdout",
          "text": [
            "Iteration: 500 Loss: 0.7357711791992188 Accuracy: 81.41999816894531 %\n",
            "Iteration: 1000 Loss: 0.49898582696914673 Accuracy: 89.0 %\n",
            "Iteration: 1500 Loss: 0.5394967198371887 Accuracy: 90.0999984741211 %\n",
            "Iteration: 2000 Loss: 0.2962166666984558 Accuracy: 91.0999984741211 %\n",
            "Iteration: 2500 Loss: 0.20671886205673218 Accuracy: 91.87000274658203 %\n",
            "Iteration: 3000 Loss: 0.3478963077068329 Accuracy: 92.2300033569336 %\n",
            "Iteration: 3500 Loss: 0.24843592941761017 Accuracy: 92.76000213623047 %\n",
            "Iteration: 4000 Loss: 0.29024702310562134 Accuracy: 93.36000061035156 %\n",
            "Iteration: 4500 Loss: 0.38459691405296326 Accuracy: 93.44999694824219 %\n"
          ]
        }
      ],
      "source": [
        "# ANN model training\n",
        "count = 0\n",
        "loss_list = []\n",
        "iteration_list = []\n",
        "accuracy_list = []\n",
        "for epoch in range(num_epochs):\n",
        "    for i, (images, labels) in enumerate(train_loader):\n",
        "        train = Variable(images.view(-1, 28*28))\n",
        "        labels = Variable(labels)\n",
        "        \n",
        "        # Clear gradients\n",
        "        optimizer.zero_grad()\n",
        "        \n",
        "        # Forward propagation\n",
        "        output = model(train)\n",
        "        # Calculate softmax and cross entropy loss\n",
        "        loss = error(output, labels)\n",
        "        # Calculating gradients\n",
        "        loss.backward()\n",
        "        # Update parameters\n",
        "        optimizer.step()\n",
        "        \n",
        "        count += 1\n",
        "        if count % 50 == 0:\n",
        "            # Calculate Accuracy\n",
        "            correct = 0\n",
        "            total = 0\n",
        "            # Predict test dataset\n",
        "            for images, labels in test_loader:\n",
        "                test = Variable(images.view(-1, 28*28))\n",
        "                # Forward propagation\n",
        "                output = model(test)\n",
        "                # Get predictions from the maximum value\n",
        "                predicted = torch.max(output.data, 1)[1]\n",
        "                # Total number of labels\n",
        "                total += len(labels)\n",
        "\n",
        "                # Total correct predictions\n",
        "                correct += (predicted == labels).sum()\n",
        "                \n",
        "            accuracy = 100 * correct / float(total)\n",
        "            # store loss and iteration\n",
        "            loss_list.append(loss.data)\n",
        "            iteration_list.append(count)\n",
        "            accuracy_list.append(accuracy)\n",
        "        if count % 500 == 0:\n",
        "            # Print Loss\n",
        "            print('Iteration: {} Loss: {} Accuracy: {} %'.format(count, loss.data,accuracy))"
      ]
    },
    {
      "cell_type": "code",
      "execution_count": 28,
      "id": "1c2706c1",
      "metadata": {
        "colab": {
          "base_uri": "https://localhost:8080/",
          "height": 573
        },
        "id": "1c2706c1",
        "outputId": "7e4e7f9b-cc66-4b31-84c2-2398c9ad5f9e"
      },
      "outputs": [
        {
          "output_type": "display_data",
          "data": {
            "text/plain": [
              "<Figure size 432x288 with 1 Axes>"
            ],
            "image/png": "[encoded data removed]"
          },
          "metadata": {
            "needs_background": "light"
          }
        },
        {
          "output_type": "display_data",
          "data": {
            "text/plain": [
              "<Figure size 432x288 with 1 Axes>"
            ],
            "image/png": "[encoded data removed]"
          },
          "metadata": {
            "needs_background": "light"
          }
        }
      ],
      "source": [
        "# visualization loss\n",
        "plt.plot(iteration_list,loss_list)\n",
        "plt.xlabel(\"Number of iteration\")\n",
        "plt.ylabel(\"Loss\")\n",
        "plt.title(\"ANN: Loss vs Number of iteration\")\n",
        "plt.show()\n",
        "# visualization accuracy\n",
        "plt.plot(iteration_list,accuracy_list,color = \"red\")\n",
        "plt.xlabel(\"Number of iteration\")\n",
        "plt.ylabel(\"Accuracy\")\n",
        "plt.title(\"ANN: Accuracy vs Number of iteration\")\n",
        "plt.show()"
      ]
    }
  ],
  "metadata": {
    "kernelspec": {
      "display_name": "Python 3 (ipykernel)",
      "language": "python",
      "name": "python3"
    },
    "language_info": {
      "codemirror_mode": {
        "name": "ipython",
        "version": 3
      },
      "file_extension": ".py",
      "mimetype": "text/x-python",
      "name": "python",
      "nbconvert_exporter": "python",
      "pygments_lexer": "ipython3",
      "version": "3.10.1"
    },
    "colab": {
      "name": "CE049_Lab10_MNIST ANN.ipynb",
      "provenance": []
    }
  },
  "nbformat": 4,
  "nbformat_minor": 5
}