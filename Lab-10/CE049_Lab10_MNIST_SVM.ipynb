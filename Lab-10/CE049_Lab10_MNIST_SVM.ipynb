{
  "cells": [
    {
      "cell_type": "code",
      "execution_count": 16,
      "metadata": {
        "id": "1fd71ff8"
      },
      "outputs": [],
      "source": [
        "import numpy as np\n",
        "import pandas as pd\n",
        "from sklearn.svm import SVC\n",
        "import matplotlib.pyplot as plt\n",
        "from sklearn.model_selection import train_test_split"
      ],
      "id": "1fd71ff8"
    },
    {
      "cell_type": "code",
      "execution_count": 17,
      "metadata": {
        "id": "3831e09a",
        "colab": {
          "base_uri": "https://localhost:8080/"
        },
        "outputId": "1b460281-8f5c-42fb-b600-87e81dcc1195"
      },
      "outputs": [
        {
          "output_type": "execute_result",
          "data": {
            "text/plain": [
              "((60000, 28, 28), (10000, 28, 28), (60000,), (10000,))"
            ]
          },
          "metadata": {},
          "execution_count": 17
        }
      ],
      "source": [
        "from tensorflow.keras.datasets import mnist\n",
        "(features_train, targets_train), (features_test, targets_test) = mnist.load_data()\n",
        "(features_train.shape, features_test.shape,targets_train.shape,targets_test.shape)"
      ],
      "id": "3831e09a"
    },
    {
      "cell_type": "code",
      "execution_count": 18,
      "metadata": {
        "id": "fcf8be46",
        "colab": {
          "base_uri": "https://localhost:8080/"
        },
        "outputId": "943f2a0c-d6d8-4f21-b7d1-5e416a5ad0ae"
      },
      "outputs": [
        {
          "output_type": "execute_result",
          "data": {
            "text/plain": [
              "((60000, 28, 28), (10000, 28, 28))"
            ]
          },
          "metadata": {},
          "execution_count": 18
        }
      ],
      "source": [
        "# Convert to float32.\n",
        "features_train = np.array(features_train, np.float32)\n",
        "features_test = np.array(features_test, np.float32)\n",
        "(features_train.shape,features_test.shape)"
      ],
      "id": "fcf8be46"
    },
    {
      "cell_type": "code",
      "execution_count": 19,
      "metadata": {
        "id": "368cfd75",
        "colab": {
          "base_uri": "https://localhost:8080/"
        },
        "outputId": "b898eaf3-e65e-43a5-eb85-7b634f6d6669"
      },
      "outputs": [
        {
          "output_type": "execute_result",
          "data": {
            "text/plain": [
              "((60000, 784), (10000, 784))"
            ]
          },
          "metadata": {},
          "execution_count": 19
        }
      ],
      "source": [
        "# Flatten images to 1-D vector of 784 features (28*28).\n",
        "features_train_flattened = features_train.reshape(len(features_train),28*28)\n",
        "features_test_flattened = features_test.reshape(len(features_test),28*28)\n",
        "(features_train_flattened.shape, features_test_flattened.shape)"
      ],
      "id": "368cfd75"
    },
    {
      "cell_type": "code",
      "execution_count": 20,
      "metadata": {
        "id": "a0832f94",
        "colab": {
          "base_uri": "https://localhost:8080/"
        },
        "outputId": "2f4f108e-9d57-4a93-d36c-77ddf38b0fe4"
      },
      "outputs": [
        {
          "output_type": "stream",
          "name": "stdout",
          "text": [
            "0.0 0.0 0.0 0.19215687 0.93333334 0.99215686 0.99215686 0.99215686 0.99215686 0.99215686 0.99215686 0.99215686 0.99215686 0.9843137 0.3647059 0.32156864 0.32156864 0.21960784 0.15294118 0.0 0.0 0.0 0.0 0.0 0.0 0.0 0.0 0.0 0.0 0.0 0.0 0.07058824 0.85882354 0.99215686 0.99215686 0.99215686 0.99215686 0.99215686 0.7764706 0.7137255 0.96862745 0.94509804 0.0 0.0 0.0 0.0 0.0 0.0 0.0 0.0 0.0 0.0 0.0 0.0 0.0 0.0 0.0 0.0 0.0 0.0 0.3137255 0.6117647 0.41960785 0.99215686 0.99215686 0.8039216 0.043137256 0.0 0.16862746 0.6039216 0.0 0.0 0.0 0.0 0.0 0.0 0.0 0.0 0.0 0.0 0.0 0.0 0.0 0.0 0.0 0.0 0.0 0.0 0.0 0.05490196 0.003921569 0.6039216 0.99215686 0.3529412 0.0 0.0 0.0 0.0 0.0 0.0 "
          ]
        }
      ],
      "source": [
        "# Normalize images value from [0, 255] to [0, 1].\n",
        "features_train_flattened = features_train_flattened / 255\n",
        "features_test_flattened = features_test_flattened / 255\n",
        "for j in range(200,300):\n",
        "    print(features_train_flattened[0][j],end=\" \")"
      ],
      "id": "a0832f94"
    },
    {
      "cell_type": "code",
      "execution_count": 21,
      "metadata": {
        "id": "86bb8e7a",
        "colab": {
          "base_uri": "https://localhost:8080/",
          "height": 282
        },
        "outputId": "f91943e3-9675-450b-c158-46e7124d0dad"
      },
      "outputs": [
        {
          "output_type": "stream",
          "name": "stdout",
          "text": [
            "4\n"
          ]
        },
        {
          "output_type": "display_data",
          "data": {
            "text/plain": [
              "<Figure size 432x288 with 1 Axes>"
            ],
            "image/png": "[encoded data removed]"
          },
          "metadata": {
            "needs_background": "light"
          }
        }
      ],
      "source": [
        "# visualize one of the images in data set\n",
        "print(targets_train[2])\n",
        "plt.imshow(features_train[2])\n",
        "plt.show()"
      ],
      "id": "86bb8e7a"
    },
    {
      "cell_type": "code",
      "execution_count": 22,
      "metadata": {
        "colab": {
          "base_uri": "https://localhost:8080/"
        },
        "id": "71a0c6e0",
        "outputId": "b82c2009-ebd6-4887-c2cb-f816578d3ed4"
      },
      "outputs": [
        {
          "output_type": "execute_result",
          "data": {
            "text/plain": [
              "SVC()"
            ]
          },
          "metadata": {},
          "execution_count": 22
        }
      ],
      "source": [
        "model = SVC()\n",
        "model.fit(features_train_flattened,targets_train)"
      ],
      "id": "71a0c6e0"
    },
    {
      "cell_type": "code",
      "execution_count": 23,
      "metadata": {
        "id": "a605e0e1",
        "colab": {
          "base_uri": "https://localhost:8080/"
        },
        "outputId": "7ed692db-7ab8-4002-aad4-126295a70b74"
      },
      "outputs": [
        {
          "output_type": "execute_result",
          "data": {
            "text/plain": [
              "0.9792"
            ]
          },
          "metadata": {},
          "execution_count": 23
        }
      ],
      "source": [
        "model.score(features_test_flattened,targets_test)"
      ],
      "id": "a605e0e1"
    },
    {
      "cell_type": "code",
      "execution_count": 24,
      "metadata": {
        "id": "1e704eb5",
        "colab": {
          "base_uri": "https://localhost:8080/"
        },
        "outputId": "ab64a003-e784-4173-f6d0-9f6b918e1663"
      },
      "outputs": [
        {
          "output_type": "stream",
          "name": "stdout",
          "text": [
            "[7 2 1 0 4 1 4 9 6 9 0 6 9 0 1 5 9 7 3 4]\n",
            "[7 2 1 0 4 1 4 9 5 9 0 6 9 0 1 5 9 7 3 4]\n"
          ]
        }
      ],
      "source": [
        "y_predicted = model.predict(features_test_flattened[0:20])\n",
        "y_actual = targets_test[0:20]\n",
        "print(y_predicted)\n",
        "print(y_actual)"
      ],
      "id": "1e704eb5"
    }
  ],
  "metadata": {
    "colab": {
      "name": "CE049_Lab10_MNIST SVM.ipynb",
      "provenance": []
    },
    "kernelspec": {
      "display_name": "Python 3 (ipykernel)",
      "language": "python",
      "name": "python3"
    },
    "language_info": {
      "codemirror_mode": {
        "name": "ipython",
        "version": 3
      },
      "file_extension": ".py",
      "mimetype": "text/x-python",
      "name": "python",
      "nbconvert_exporter": "python",
      "pygments_lexer": "ipython3",
      "version": "3.10.1"
    }
  },
  "nbformat": 4,
  "nbformat_minor": 5
}