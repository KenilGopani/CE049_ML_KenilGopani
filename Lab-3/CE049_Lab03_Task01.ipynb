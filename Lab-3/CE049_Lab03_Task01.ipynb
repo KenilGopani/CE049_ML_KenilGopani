{
 "cells": [
  {
   "cell_type": "markdown",
   "id": "72e0839f",
   "metadata": {},
   "source": [
    "### TASK 1"
   ]
  },
  {
   "cell_type": "code",
   "execution_count": 1,
   "id": "f3dc3151",
   "metadata": {},
   "outputs": [],
   "source": [
    "#Import scikit-learn library\n",
    "import pandas as pd\n",
    "from sklearn import preprocessing\n",
    "from sklearn.naive_bayes import GaussianNB, MultinomialNB\n",
    "from sklearn.model_selection import train_test_split"
   ]
  },
  {
   "cell_type": "code",
   "execution_count": 2,
   "id": "5e02d80e",
   "metadata": {},
   "outputs": [
    {
     "name": "stdout",
     "output_type": "stream",
     "text": [
      "Data :-\n",
      "   Outlook Temp Humidity Wind Play\n",
      "0        R    H   Normal    F    N\n",
      "1        R    H     High    T    N\n",
      "2        O    H   Normal    F    Y\n",
      "3        S    M   Normal    F    Y\n",
      "4        S    C   Normal    F    Y\n",
      "5        S    C      Low    T    N\n",
      "6        O    C   Normal    T    Y\n",
      "7        R    M   Normal    F    N\n",
      "8        R    C      Low    F    Y\n",
      "9        S    M     High    F    Y\n",
      "10       R    M     High    T    Y\n",
      "11       O    M      Low    T    Y\n",
      "12       O    H   Normal    F    Y\n",
      "13       S    M   Normal    T    N\n"
     ]
    }
   ],
   "source": [
    "#Load dataset\n",
    "data = pd.read_csv('Dataset1.csv')\n",
    "\n",
    "print(\"Data :-\")\n",
    "print(data)"
   ]
  },
  {
   "cell_type": "code",
   "execution_count": 3,
   "id": "3d4b9b94",
   "metadata": {},
   "outputs": [
    {
     "name": "stdout",
     "output_type": "stream",
     "text": [
      "Outlook: [1 1 0 2 2 2 0 1 1 2 1 0 0 2]\n",
      "Temp: [1 1 1 2 0 0 0 2 0 2 2 2 1 2]\n",
      "Humidity: [2 0 2 2 2 1 2 2 1 0 0 1 2 2]\n",
      "Wind: [0 1 0 0 0 1 1 0 0 0 1 1 0 1]\n",
      "Play: [0 0 1 1 1 0 1 0 1 1 1 1 1 0]\n"
     ]
    }
   ],
   "source": [
    "#Lebel Encoding\n",
    "encoder = preprocessing.LabelEncoder()\n",
    "\n",
    "encoded_outlook = encoder.fit_transform(data.Outlook)\n",
    "encoded_temp = encoder.fit_transform(data.Temp)\n",
    "encoded_humidity = encoder.fit_transform(data.Humidity)\n",
    "encoded_wind = encoder.fit_transform(data.Wind)\n",
    "label = encoder.fit_transform(data.Play)\n",
    "\n",
    "print(\"Outlook:\" ,encoded_outlook)\n",
    "print(\"Temp:\" ,encoded_temp)\n",
    "print(\"Humidity:\" ,encoded_humidity)\n",
    "print(\"Wind:\" ,encoded_wind)\n",
    "print(\"Play:\" ,label)"
   ]
  },
  {
   "cell_type": "code",
   "execution_count": 4,
   "id": "86ed8aed",
   "metadata": {},
   "outputs": [
    {
     "name": "stdout",
     "output_type": "stream",
     "text": [
      "Features: ((1, 1, 2, 0), (1, 1, 0, 1), (0, 1, 2, 0), (2, 2, 2, 0), (2, 0, 2, 0), (2, 0, 1, 1), (0, 0, 2, 1), (1, 2, 2, 0), (1, 0, 1, 0), (2, 2, 0, 0), (1, 2, 0, 1), (0, 2, 1, 1), (0, 1, 2, 0), (2, 2, 2, 1))\n"
     ]
    }
   ],
   "source": [
    "\n",
    "# generate features by combinning\n",
    "features = tuple(zip(encoded_outlook,encoded_temp,encoded_humidity,encoded_wind))\n",
    "print(\"Features:\",features)"
   ]
  },
  {
   "cell_type": "code",
   "execution_count": 5,
   "id": "f23caa0f",
   "metadata": {},
   "outputs": [
    {
     "data": {
      "text/plain": [
       "MultinomialNB()"
      ]
     },
     "execution_count": 5,
     "metadata": {},
     "output_type": "execute_result"
    }
   ],
   "source": [
    "#Create a Multinomial Classifier\n",
    "MNB_model = MultinomialNB()\n",
    " \n",
    "# Train the model using the training sets\n",
    "MNB_model.fit(features,label)"
   ]
  },
  {
   "cell_type": "code",
   "execution_count": 6,
   "id": "a1372114",
   "metadata": {},
   "outputs": [
    {
     "ename": "NameError",
     "evalue": "name 'model' is not defined",
     "output_type": "error",
     "traceback": [
      "\u001b[1;31m---------------------------------------------------------------------------\u001b[0m",
      "\u001b[1;31mNameError\u001b[0m                                 Traceback (most recent call last)",
      "\u001b[1;32m~\\AppData\\Local\\Temp/ipykernel_18924/450506034.py\u001b[0m in \u001b[0;36m<module>\u001b[1;34m\u001b[0m\n\u001b[0;32m      1\u001b[0m \u001b[1;31m#Predict Output\u001b[0m\u001b[1;33m\u001b[0m\u001b[1;33m\u001b[0m\u001b[1;33m\u001b[0m\u001b[0m\n\u001b[1;32m----> 2\u001b[1;33m \u001b[0mpredicted\u001b[0m\u001b[1;33m=\u001b[0m \u001b[0mmodel\u001b[0m\u001b[1;33m.\u001b[0m\u001b[0mpredict\u001b[0m\u001b[1;33m(\u001b[0m\u001b[1;33m[\u001b[0m\u001b[1;33m[\u001b[0m\u001b[1;36m1\u001b[0m\u001b[1;33m,\u001b[0m\u001b[1;36m2\u001b[0m\u001b[1;33m,\u001b[0m\u001b[1;36m2\u001b[0m\u001b[1;33m,\u001b[0m\u001b[1;36m0\u001b[0m\u001b[1;33m]\u001b[0m\u001b[1;33m]\u001b[0m\u001b[1;33m)\u001b[0m \u001b[1;31m# 1:Rainy, 2:Mild, 2:normal, 0:false\u001b[0m\u001b[1;33m\u001b[0m\u001b[1;33m\u001b[0m\u001b[0m\n\u001b[0m\u001b[0;32m      3\u001b[0m \u001b[0mprint\u001b[0m\u001b[1;33m(\u001b[0m\u001b[1;34m\"Predicted Value:\"\u001b[0m\u001b[1;33m,\u001b[0m \u001b[0mpredicted\u001b[0m\u001b[1;33m)\u001b[0m\u001b[1;33m\u001b[0m\u001b[1;33m\u001b[0m\u001b[0m\n",
      "\u001b[1;31mNameError\u001b[0m: name 'model' is not defined"
     ]
    }
   ],
   "source": [
    "#Predict Output\n",
    "predicted= model.predict([[1,2,2,0]]) # 1:Rainy, 2:Mild, 2:normal, 0:false\n",
    "print(\"Predicted Value:\", predicted)"
   ]
  },
  {
   "cell_type": "code",
   "execution_count": null,
   "id": "032c56cb",
   "metadata": {},
   "outputs": [],
   "source": [
    "#Predict Output\n",
    "predicted= model.predict([[2,0,0,1]]) # 2:Sunny, 0:cool, 0:High, 1:true\n",
    "print(\"Predicted Value:\", predicted)"
   ]
  },
  {
   "cell_type": "code",
   "execution_count": null,
   "id": "06d103e2",
   "metadata": {},
   "outputs": [],
   "source": [
    "#import the necessary module\n",
    "from sklearn.model_selection import train_test_split\n",
    "\n",
    "#split data set into train and test sets\n",
    "data_train, data_test, target_train, target_test = train_test_split(features, label, test_size = 0.20, random_state = 49)\n",
    "\n",
    "print(\"data_train: \\n\",data_train)\n",
    "print(\"\\ndata_test: \\n\",data_test"
   ]
  },
  {
   "cell_type": "code",
   "execution_count": null,
   "id": "a039221d",
   "metadata": {},
   "outputs": [],
   "source": [
    "gnb = GaussianNB()\n",
    "\n",
    "#Train the model using the training sets\n",
    "gnb.fit(data_train, target_train)\n",
    "\n",
    "#Predict the response for test dataset\n",
    "target_predicted = gnb.predict(data_test)"
   ]
  },
  {
   "cell_type": "code",
   "execution_count": null,
   "id": "a277ba50",
   "metadata": {},
   "outputs": [],
   "source": [
    "#Import scikit-learn metrics module for accuracy calculation\n",
    "from sklearn import metrics\n",
    "\n",
    "# Model Accuracy, how often is the classifier correct?\n",
    "print(\"Accuracy: \",metrics.accuracy_score(target_test, target_predicted))"
   ]
  },
  {
   "cell_type": "code",
   "execution_count": null,
   "id": "66b36483",
   "metadata": {},
   "outputs": [],
   "source": [
    "#Import confusion_matrix from scikit-learn metrics module for confusion_matrix\n",
    "from sklearn.metrics import confusion_matrix\n",
    "confusion_matrix(target_test, target_predicted)"
   ]
  },
  {
   "cell_type": "code",
   "execution_count": null,
   "id": "5c45e219",
   "metadata": {},
   "outputs": [],
   "source": [
    "from sklearn.metrics import precision_score\n",
    "from sklearn.metrics import recall_score\n",
    "\n",
    "precision = precision_score(target_test, target_predicted)\n",
    "recall = recall_score(target_test, target_predicted)\n",
    "print('precision: {}'.format(precision))\n",
    "print('recall: {}'.format(recall))"
   ]
  },
  {
   "cell_type": "code",
   "execution_count": null,
   "id": "7c209f0b",
   "metadata": {},
   "outputs": [],
   "source": []
  },
  {
   "cell_type": "code",
   "execution_count": null,
   "id": "6fd159d8",
   "metadata": {},
   "outputs": [],
   "source": []
  }
 ],
 "metadata": {
  "kernelspec": {
   "display_name": "Python 3 (ipykernel)",
   "language": "python",
   "name": "python3"
  },
  "language_info": {
   "codemirror_mode": {
    "name": "ipython",
    "version": 3
   },
   "file_extension": ".py",
   "mimetype": "text/x-python",
   "name": "python",
   "nbconvert_exporter": "python",
   "pygments_lexer": "ipython3",
   "version": "3.9.5"
  }
 },
 "nbformat": 4,
 "nbformat_minor": 5
}
