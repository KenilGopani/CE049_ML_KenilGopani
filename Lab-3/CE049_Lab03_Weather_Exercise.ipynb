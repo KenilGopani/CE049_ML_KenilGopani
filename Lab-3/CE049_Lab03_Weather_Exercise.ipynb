{
 "cells": [
  {
   "cell_type": "markdown",
   "id": "295f875c",
   "metadata": {},
   "source": [
    "## Name: Gopani Kenil G. \n",
    "## Roll No: CE049 \n",
    "## ID: 19CEUOS080\n",
    "####  Lab-3\n",
    "#### Aim: Implement Naive Bayes classifier : Weather Example**"
   ]
  },
  {
   "cell_type": "markdown",
   "id": "54341f61",
   "metadata": {},
   "source": [
    "##### dataset\n",
    "ID :1, 2, 3, 4, 5, 6, 7, 8, 9, 10, 11, 12, 13, 14\n",
    "\n",
    "Weather : ‘Sunny’, ‘Sunny’, ‘Overcast’, ‘Rainy’, ‘Rainy’,‘Rainy’, ‘Overcast’, ‘Sunny’, ‘Sunny’,‘Rainy’, ‘Sunny’, ‘Overcast’, ‘Overcast’, ‘Rainy’\n",
    "\n",
    "Temperature : ‘Hot’,‘Hot’,‘Hot’,‘Mild’,‘Cool’,‘Cool’,‘Cool’,‘Mild’,‘Cool’,‘Mild’,‘Mild’,‘Mild’,‘Hot’,‘Mild’\n",
    "\n",
    "Play=‘No’,‘No’,‘Yes’,‘Yes’,‘Yes’,‘No’,‘Yes’,‘No’,‘Yes’, ‘Yes’,‘Yes’,‘Yes’,‘Yes’,‘No’"
   ]
  },
  {
   "cell_type": "markdown",
   "id": "d02a4458",
   "metadata": {},
   "source": [
    "### **Step 1: Import necessary libraries**"
   ]
  },
  {
   "cell_type": "code",
   "execution_count": 1,
   "id": "5112c5ef",
   "metadata": {},
   "outputs": [],
   "source": [
    "from sklearn import preprocessing\n",
    "from sklearn.naive_bayes import MultinomialNB"
   ]
  },
  {
   "cell_type": "markdown",
   "id": "c876316a",
   "metadata": {},
   "source": [
    "### **Step 2: Prepare dataset**"
   ]
  },
  {
   "cell_type": "code",
   "execution_count": 2,
   "id": "4f8aff28",
   "metadata": {},
   "outputs": [],
   "source": [
    "weather = ['Sunny', 'Sunny', 'Overcast', 'Rainy', 'Rainy','Rainy', 'Overcast',\n",
    "'Sunny', 'Sunny', 'Rainy', 'Sunny', 'Overcast', 'Overcast', 'Rainy']\n",
    "\n",
    "temp = ['Hot','Hot','Hot','Mild','Cool','Cool','Cool','Mild',\n",
    "'Cool','Mild','Mild','Mild','Hot','Mild']\n",
    "\n",
    "play=['No','No','Yes','Yes','Yes','No','Yes','No','Yes',\n",
    "'Yes','Yes','Yes','Yes','No']"
   ]
  },
  {
   "cell_type": "markdown",
   "id": "b30228d4",
   "metadata": {},
   "source": [
    "### **Step 3: Digitize the data set using encoding**"
   ]
  },
  {
   "cell_type": "code",
   "execution_count": 3,
   "id": "da59d05b",
   "metadata": {},
   "outputs": [
    {
     "name": "stdout",
     "output_type": "stream",
     "text": [
      "Temprature : [1 1 1 2 0 0 0 2 0 2 2 2 1 2]\n",
      "Weather    : [2 2 0 1 1 1 0 2 2 1 2 0 0 1]\n",
      "Play       : [0 0 1 1 1 0 1 0 1 1 1 1 1 0]\n"
     ]
    }
   ],
   "source": [
    "#creating labelEncoder\n",
    "le = preprocessing.LabelEncoder()\n",
    "\n",
    "# Converting string labels into numbers.\n",
    "weather_encoded=le.fit_transform(weather)\n",
    "temp_encoded=le.fit_transform(temp)\n",
    "label=le.fit_transform(play)\n",
    "\n",
    "print(\"Temprature :\",temp_encoded)\n",
    "print(\"Weather    :\" ,weather_encoded)\n",
    "print(\"Play       :\",label)"
   ]
  },
  {
   "cell_type": "markdown",
   "id": "954a56a0",
   "metadata": {},
   "source": [
    "### Step 4: Merge different features to prepare dataset"
   ]
  },
  {
   "cell_type": "code",
   "execution_count": 4,
   "id": "ddf76173",
   "metadata": {},
   "outputs": [
    {
     "name": "stdout",
     "output_type": "stream",
     "text": [
      "Features: ((2, 1), (2, 1), (0, 1), (1, 2), (1, 0), (1, 0), (0, 0), (2, 2), (2, 0), (1, 2), (2, 2), (0, 2), (0, 1), (1, 2))\n"
     ]
    }
   ],
   "source": [
    "#Combinig weather and temp into single listof tuples\n",
    "features = tuple(zip(weather_encoded,temp_encoded))\n",
    "print(\"Features:\",features)"
   ]
  },
  {
   "cell_type": "markdown",
   "id": "c0b05c5c",
   "metadata": {},
   "source": [
    "### Step 5: Train ’Naive Bayes Classifier"
   ]
  },
  {
   "cell_type": "code",
   "execution_count": 5,
   "id": "d59c5e96",
   "metadata": {},
   "outputs": [
    {
     "data": {
      "text/plain": [
       "MultinomialNB()"
      ]
     },
     "execution_count": 5,
     "metadata": {},
     "output_type": "execute_result"
    }
   ],
   "source": [
    "#Create a Classifier\n",
    "model = MultinomialNB()\n",
    "\n",
    "# Train the model using the training sets\n",
    "model.fit(features,label)"
   ]
  },
  {
   "cell_type": "markdown",
   "id": "b3cbbabb",
   "metadata": {},
   "source": [
    "### Step 6: Predict Output for new data"
   ]
  },
  {
   "cell_type": "code",
   "execution_count": 6,
   "id": "e1292fa7",
   "metadata": {},
   "outputs": [
    {
     "name": "stdout",
     "output_type": "stream",
     "text": [
      "Predicted Value: [1]\n",
      "[[0.36151612 0.63848388]]\n"
     ]
    }
   ],
   "source": [
    "#Predict Output\n",
    "predicted= model.predict([[2,2]]) # 2:Sunny, 2:Mild\n",
    "print(\"Predicted Value:\", predicted)\n",
    "pre= model.predict_proba([[2,2]])\n",
    "print(pre)"
   ]
  },
  {
   "cell_type": "markdown",
   "id": "dab70ca4",
   "metadata": {},
   "source": [
    "### Exercise: Manually calculate output for the following cases and compare it with system’s output.\n",
    "### (1) Will you play if the temperature is ‘Hot’ and weather is ‘overcast’?"
   ]
  },
  {
   "cell_type": "markdown",
   "id": "fa53e963",
   "metadata": {},
   "source": [
    "Predict Output"
   ]
  },
  {
   "cell_type": "code",
   "execution_count": 7,
   "id": "afdc5f89",
   "metadata": {},
   "outputs": [
    {
     "name": "stdout",
     "output_type": "stream",
     "text": [
      "Predicted proba: [[0.29568697 0.70431303]]\n",
      "Predicted value: 1\n"
     ]
    }
   ],
   "source": [
    "predicted= model.predict_proba([[0,1]]) # 0:Overcast, 1:Hot\n",
    "print(\"Predicted proba:\", predicted)\n",
    "print(\"Predicted value:\",  model.predict([[0,1]]).prod())"
   ]
  },
  {
   "cell_type": "markdown",
   "id": "c9065b05",
   "metadata": {},
   "source": [
    "Manually Calculated"
   ]
  },
  {
   "cell_type": "markdown",
   "id": "17b58d8b",
   "metadata": {},
   "source": [
    "<img src=\"./images/IMG_20220115_200630.jpg\" width=550px>"
   ]
  },
  {
   "cell_type": "markdown",
   "id": "d74e3282",
   "metadata": {},
   "source": [
    "\n",
    "\n",
    "### (2) Will you play if the temperature is ‘Mild’ and weather is ‘Sunny’?\n",
    "\n",
    "### Predict Output"
   ]
  },
  {
   "cell_type": "code",
   "execution_count": 8,
   "id": "502fe0f9",
   "metadata": {},
   "outputs": [
    {
     "name": "stdout",
     "output_type": "stream",
     "text": [
      "Predicted proba: [[0.36151612 0.63848388]]\n",
      "Predicted value: 1\n"
     ]
    }
   ],
   "source": [
    "#Predict Output\n",
    "predicted= model.predict_proba([[2,2]]) # 2:Sunny, 2:Mild\n",
    "print(\"Predicted proba:\", predicted)\n",
    "print(\"Predicted value:\",  model.predict([[2,2]]).prod())"
   ]
  },
  {
   "cell_type": "markdown",
   "id": "17884467",
   "metadata": {},
   "source": [
    "Manually Calculated"
   ]
  },
  {
   "cell_type": "markdown",
   "id": "ce3610eb",
   "metadata": {},
   "source": [
    "<img src=\"./images/IMG_20220115_200607.jpg\" width=550px>"
   ]
  },
  {
   "cell_type": "markdown",
   "id": "bfe7372e",
   "metadata": {},
   "source": [
    "##### p(play=yes/weather=sunny,temp=mild) = 0.4256\n",
    "##### p(play=no/weather=sunny,temp=mild) = 0.5764"
   ]
  }
 ],
 "metadata": {
  "kernelspec": {
   "display_name": "Python 3 (ipykernel)",
   "language": "python",
   "name": "python3"
  },
  "language_info": {
   "codemirror_mode": {
    "name": "ipython",
    "version": 3
   },
   "file_extension": ".py",
   "mimetype": "text/x-python",
   "name": "python",
   "nbconvert_exporter": "python",
   "pygments_lexer": "ipython3",
   "version": "3.9.5"
  }
 },
 "nbformat": 4,
 "nbformat_minor": 5
}
