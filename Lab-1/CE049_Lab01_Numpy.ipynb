{
 "cells": [
  {
   "cell_type": "markdown",
   "id": "f7eb9288",
   "metadata": {},
   "source": [
    "Name: Gopani Kenil G.\n",
    "Roll No: CE049\n",
    "ID: 19CEUOS080\n",
    "@numpy"
   ]
  },
  {
   "cell_type": "markdown",
   "id": "08173408",
   "metadata": {},
   "source": []
  },
  {
   "cell_type": "code",
   "execution_count": 1,
   "id": "ad3eef13",
   "metadata": {},
   "outputs": [],
   "source": [
    "import numpy as np\n",
    "from numpy import random\n",
    "import pandas as ps"
   ]
  },
  {
   "cell_type": "raw",
   "id": "18732229",
   "metadata": {},
   "source": [
    "1) Create a Numpy array of size 4 x 5."
   ]
  },
  {
   "cell_type": "code",
   "execution_count": 19,
   "id": "9de844fe",
   "metadata": {},
   "outputs": [
    {
     "name": "stdout",
     "output_type": "stream",
     "text": [
      "[[ 1 -9  8  0 12]\n",
      " [ 8  9  1  2  4]\n",
      " [ 5 -6  2  4  9]\n",
      " [ 7 -7  6 -6  1]]\n"
     ]
    }
   ],
   "source": [
    "array1 = np.array([[1,-9,8,0,12],[8,9,1,2,4],[5,-6,2,4,9],[7,-7,6,-6,1]])\n",
    "print(array1)"
   ]
  },
  {
   "cell_type": "markdown",
   "id": "2b098e32",
   "metadata": {},
   "source": [
    "2) Randomly initialize the array."
   ]
  },
  {
   "cell_type": "code",
   "execution_count": 3,
   "id": "cd83cb3f",
   "metadata": {},
   "outputs": [
    {
     "name": "stdout",
     "output_type": "stream",
     "text": [
      "[73  4 22 77 94 19 84 92 63 33]\n"
     ]
    }
   ],
   "source": [
    "rand_array = random.randint(100,size=10)\n",
    "print(rand_array)"
   ]
  },
  {
   "cell_type": "markdown",
   "id": "608d7382",
   "metadata": {},
   "source": [
    "3) Get the Transpose of the Matrix that you created. Create a square matrix and find its determinant."
   ]
  },
  {
   "cell_type": "code",
   "execution_count": 4,
   "id": "6fd74744",
   "metadata": {},
   "outputs": [
    {
     "name": "stdout",
     "output_type": "stream",
     "text": [
      "[[1 4 7]\n",
      " [2 5 8]\n",
      " [3 6 9]]\n"
     ]
    }
   ],
   "source": [
    "matrix = np.array([[1,2,3],[4,5,6],[7,8,9]]);\n",
    "transpose_matrix = matrix.T\n",
    "print(transpose_matrix)"
   ]
  },
  {
   "cell_type": "markdown",
   "id": "0ce0e3d1",
   "metadata": {},
   "source": [
    "4) Create another matrix of size 5 x 4 and randomly initialize it."
   ]
  },
  {
   "cell_type": "code",
   "execution_count": 5,
   "id": "e79672c8",
   "metadata": {},
   "outputs": [
    {
     "name": "stdout",
     "output_type": "stream",
     "text": [
      "[[77 68 54 17]\n",
      " [89 12 65 25]\n",
      " [35 45 88 79]\n",
      " [67 37 93 93]\n",
      " [28 12 27 65]]\n"
     ]
    }
   ],
   "source": [
    "rand_matrix = random.randint(99,size=(5,4))\n",
    "print(rand_matrix)"
   ]
  },
  {
   "cell_type": "markdown",
   "id": "4335c4a0",
   "metadata": {},
   "source": [
    "5) Perform Matrix multiplication."
   ]
  },
  {
   "cell_type": "code",
   "execution_count": 6,
   "id": "c8bd854d",
   "metadata": {},
   "outputs": [
    {
     "name": "stdout",
     "output_type": "stream",
     "text": [
      "[[10  7]\n",
      " [22 15]]\n"
     ]
    }
   ],
   "source": [
    "matrix1 = np.array([[1,2],[3,4]])\n",
    "matrix2 = np.array([[2,1],[4,3]])\n",
    "result = np.dot(matrix1,matrix2)\n",
    "print(result)"
   ]
  },
  {
   "cell_type": "markdown",
   "id": "64cba722",
   "metadata": {},
   "source": [
    "6) Perform element wise matrix multiplication."
   ]
  },
  {
   "cell_type": "code",
   "execution_count": 8,
   "id": "c4a5a9d3",
   "metadata": {},
   "outputs": [
    {
     "name": "stdout",
     "output_type": "stream",
     "text": [
      "[[ -2   0]\n",
      " [  6 -12]]\n"
     ]
    }
   ],
   "source": [
    "matrix1 = np.array([[1,0],[3,-4]])\n",
    "matrix2 = np.array([[-2,1],[2,3]])\n",
    "result = matrix1 * matrix2\n",
    "print(result)"
   ]
  },
  {
   "cell_type": "markdown",
   "id": "3f8f7164",
   "metadata": {},
   "source": [
    "7) Find mean, median of the numpy array created."
   ]
  },
  {
   "cell_type": "code",
   "execution_count": 9,
   "id": "0870dd7c",
   "metadata": {},
   "outputs": [
    {
     "name": "stdout",
     "output_type": "stream",
     "text": [
      "mean is =  4.666666666666667\n",
      "median is =  4.5\n"
     ]
    }
   ],
   "source": [
    "arr = np.array([6,3,4,5,2,8])\n",
    "mean = np.mean(arr)\n",
    "median = np.median(arr)\n",
    "print(\"mean is = \" ,mean)\n",
    "print(\"median is = \",median)"
   ]
  },
  {
   "cell_type": "markdown",
   "id": "a13b5213",
   "metadata": {},
   "source": [
    "8) Obtain each row in the second column of the first array."
   ]
  },
  {
   "cell_type": "code",
   "execution_count": 27,
   "id": "cdb0c6f6",
   "metadata": {},
   "outputs": [
    {
     "name": "stdout",
     "output_type": "stream",
     "text": [
      "[[ 1 -9  8  0 12]\n",
      " [ 8  9  1  2  4]\n",
      " [ 5 -6  2  4  9]\n",
      " [ 7 -7  6 -6  1]]\n",
      "[-9  9 -6 -7]\n"
     ]
    }
   ],
   "source": [
    "print(array1)\n",
    "print(array1[0:,1])"
   ]
  },
  {
   "cell_type": "markdown",
   "id": "4b962fe1",
   "metadata": {},
   "source": [
    "9) Convert Numeric entries(columns) of Iris.csv to Mean Centered Version"
   ]
  },
  {
   "cell_type": "code",
   "execution_count": 16,
   "id": "b4aa7f4a",
   "metadata": {},
   "outputs": [
    {
     "name": "stdout",
     "output_type": "stream",
     "text": [
      "Mean of SepalLengthCm :- 5.843333333333334\n",
      "Mean of SepalWidthCm :- 3.0540000000000003\n",
      "Mean of PetalLengthCm :- 3.758666666666666\n",
      "Mean of PetalWidthCm :- 1.1986666666666668\n"
     ]
    }
   ],
   "source": [
    "data = ps.read_csv('./Iris.csv')\n",
    "#print(data.to_string()) /////    tp print all data of .csv file.\n",
    "print(\"Mean of SepalLengthCm\",np.mean(data['SepalLengthCm']),sep=\" :- \",end='\\n')\n",
    "print(\"Mean of SepalWidthCm\",np.mean(data['SepalWidthCm']),sep=\" :- \",end='\\n')\n",
    "print(\"Mean of PetalLengthCm\",np.mean(data['PetalLengthCm']),sep=\" :- \",end='\\n')\n",
    "print(\"Mean of PetalWidthCm\",np.mean(data['PetalWidthCm']),sep=\" :- \",end='\\n')"
   ]
  },
  {
   "cell_type": "markdown",
   "id": "3a70262b",
   "metadata": {},
   "source": [
    "10) Study about numpy array attributes and implement it on the first matrix."
   ]
  },
  {
   "cell_type": "code",
   "execution_count": 10,
   "id": "2968080e",
   "metadata": {},
   "outputs": [
    {
     "name": "stdout",
     "output_type": "stream",
     "text": [
      "[[ 1 -9  8  0 12]\n",
      " [ 8  9  1  2  4]\n",
      " [ 5 -6  2  4  9]\n",
      " [ 7 -7  6 -6  1]]\n",
      "\n",
      "Dimention of array1 is:-  2\n",
      "Shap of array1 is:-  (4, 5)\n",
      "Data type of array1 is:-  int32\n",
      "Total size of array1 is:-  20\n",
      "Sizeof each element of array1 is:-  4\n"
     ]
    }
   ],
   "source": [
    "print(array1)\n",
    "print()\n",
    "print(\"Dimention of array1 is:- \",array1.ndim)\n",
    "print(\"Shap of array1 is:- \",array1.shape)\n",
    "print(\"Data type of array1 is:- \",array1.dtype)\n",
    "print(\"Total size of array1 is:- \",array1.size)\n",
    "print(\"Sizeof each element of array1 is:- \",array1.itemsize)"
   ]
  }
 ],
 "metadata": {
  "kernelspec": {
   "display_name": "Python 3 (ipykernel)",
   "language": "python",
   "name": "python3"
  },
  "language_info": {
   "codemirror_mode": {
    "name": "ipython",
    "version": 3
   },
   "file_extension": ".py",
   "mimetype": "text/x-python",
   "name": "python",
   "nbconvert_exporter": "python",
   "pygments_lexer": "ipython3",
   "version": "3.9.5"
  }
 },
 "nbformat": 4,
 "nbformat_minor": 5
}
