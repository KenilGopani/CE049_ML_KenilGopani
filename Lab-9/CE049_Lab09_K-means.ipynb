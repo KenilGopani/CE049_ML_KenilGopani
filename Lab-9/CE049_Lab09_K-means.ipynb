{
 "cells": [
  {
   "cell_type": "markdown",
   "id": "ac8842e8",
   "metadata": {},
   "source": [
    "## Name: Gopani Kenil G. \n",
    "## Roll No: CE049 \n",
    "## ID: 19CEUOS080\n",
    "##  Lab-9"
   ]
  },
  {
   "cell_type": "code",
   "execution_count": 1,
   "id": "28702ee1-a948-47fd-b929-8dda16c58121",
   "metadata": {},
   "outputs": [
    {
     "data": {
      "text/plain": [
       "array([[ 8.71410156,  7.95111734],\n",
       "       [ 8.5599436 ,  7.69700273],\n",
       "       [-3.92208469, -4.78988932],\n",
       "       [ 3.64578897,  1.21024165],\n",
       "       [ 8.19169954,  7.68562259],\n",
       "       [ 8.3047864 ,  7.66819575],\n",
       "       [-4.18283833, -5.42823629],\n",
       "       [ 3.76776854,  1.23827789],\n",
       "       [-4.18984905, -4.73461374],\n",
       "       [ 4.09169076,  0.93024744],\n",
       "       [ 8.33427074,  7.89296688],\n",
       "       [ 3.36924934,  1.58583457],\n",
       "       [ 8.27259344,  7.68208566],\n",
       "       [-3.93847376, -5.1676739 ],\n",
       "       [ 3.77175805,  1.03234663],\n",
       "       [ 3.64436206,  1.33235334],\n",
       "       [-4.02565001, -5.13407368],\n",
       "       [ 8.55006505,  7.69386991],\n",
       "       [-3.71827669, -4.72586793],\n",
       "       [ 8.2214286 ,  7.57389095],\n",
       "       [ 3.20536757,  1.57938831],\n",
       "       [ 3.59448686,  1.34991552],\n",
       "       [ 3.51393016,  1.42522048],\n",
       "       [ 8.50103873,  7.97661048],\n",
       "       [-3.72154889, -5.02424137],\n",
       "       [ 8.54218025,  7.95893242],\n",
       "       [-4.34656399, -4.81173147],\n",
       "       [ 3.64852073,  1.27504179],\n",
       "       [-3.76880196, -4.85267515],\n",
       "       [ 3.61140553,  1.22369865],\n",
       "       [ 3.6653212 ,  1.40926966],\n",
       "       [ 3.61244265,  1.21500448],\n",
       "       [ 9.08654466,  7.89087983],\n",
       "       [ 3.79257445,  1.6375895 ],\n",
       "       [-4.02671169, -4.9833845 ],\n",
       "       [ 8.27393534,  7.94684334],\n",
       "       [-3.75671104, -4.97951985],\n",
       "       [ 3.56825287,  1.29051065],\n",
       "       [-3.63518319, -5.02520617],\n",
       "       [ 3.57317869,  1.63611073],\n",
       "       [-4.18251489, -5.28455388],\n",
       "       [ 8.22928915,  7.53428005],\n",
       "       [-3.91278702, -5.01252062],\n",
       "       [ 8.49649594,  8.03941061],\n",
       "       [ 3.71173175,  1.51391416],\n",
       "       [-3.95223762, -4.94018752],\n",
       "       [ 8.50141366,  8.25313572],\n",
       "       [-3.86867705, -4.99955495],\n",
       "       [-3.72043423, -4.93490978],\n",
       "       [-3.85276514, -5.36899262],\n",
       "       [ 8.57349119,  7.43511112],\n",
       "       [ 8.4472675 ,  7.78157012],\n",
       "       [ 8.61512412,  7.92418713],\n",
       "       [-3.74675804, -4.91048637],\n",
       "       [-4.07023205, -4.9447949 ],\n",
       "       [-3.79422349, -5.03283692],\n",
       "       [ 3.70491963,  1.18987714],\n",
       "       [ 3.41113565,  1.92189368],\n",
       "       [ 3.73579143,  0.86567366],\n",
       "       [ 8.57148033,  7.66021374],\n",
       "       [-3.89933443, -4.8549324 ],\n",
       "       [ 3.54426416,  1.34864577],\n",
       "       [-4.01812002, -5.05647277],\n",
       "       [ 8.1249406 ,  7.68150945],\n",
       "       [-4.00598238, -5.05528837],\n",
       "       [-4.42760885, -5.1221338 ],\n",
       "       [-4.26902756, -5.01200175],\n",
       "       [ 3.65577252,  1.63461815],\n",
       "       [ 3.84203811,  1.09532182],\n",
       "       [ 3.87505367,  1.3804951 ],\n",
       "       [ 8.14234395,  7.98792356],\n",
       "       [ 8.32842644,  7.72852798],\n",
       "       [ 8.68199115,  8.09995589],\n",
       "       [-3.70714209, -5.11103579],\n",
       "       [ 8.34069534,  7.89831164],\n",
       "       [ 3.6704615 ,  1.38953953],\n",
       "       [ 8.27933341,  7.762426  ],\n",
       "       [ 8.78234943,  7.77246622],\n",
       "       [ 4.03199228,  1.53423206],\n",
       "       [ 8.60439002,  7.6511975 ],\n",
       "       [ 4.00054497,  1.05342423],\n",
       "       [-3.91152687, -5.10063189],\n",
       "       [-3.84168805, -5.0558982 ],\n",
       "       [ 8.39338497,  8.07025213],\n",
       "       [ 3.7870647 ,  1.33658089],\n",
       "       [-3.96356036, -4.9853685 ],\n",
       "       [ 8.56287815,  8.05892491],\n",
       "       [ 8.84158556,  7.65081109],\n",
       "       [ 8.61677921,  7.89359333],\n",
       "       [ 3.80473761,  1.18540004],\n",
       "       [-4.07471416, -5.10246196],\n",
       "       [-3.98269605, -4.6979938 ],\n",
       "       [-3.81181305, -5.23222209],\n",
       "       [ 3.58606452,  1.24781237],\n",
       "       [ 3.56774041,  1.1688079 ],\n",
       "       [ 8.49352243,  7.89333852],\n",
       "       [ 3.8125165 ,  1.4230999 ],\n",
       "       [ 3.55093288,  1.44907672],\n",
       "       [-4.04178562, -5.38608205],\n",
       "       [ 8.22473815,  7.68986021]])"
      ]
     },
     "execution_count": 1,
     "metadata": {},
     "output_type": "execute_result"
    }
   ],
   "source": [
    "from sklearn.datasets import make_blobs\n",
    "from sklearn.cluster import KMeans\n",
    "import matplotlib.pyplot as plt\n",
    "\n",
    "X, _ = make_blobs(n_samples=100, centers=3, n_features=2,cluster_std=0.2, random_state=49)\n",
    "X"
   ]
  },
  {
   "cell_type": "code",
   "execution_count": 2,
   "id": "f1fdc7a1-543e-46d4-a166-1ed605a7537a",
   "metadata": {},
   "outputs": [
    {
     "data": {
      "image/png": "[encoded data removed]",
      "text/plain": [
       "<Figure size 432x288 with 1 Axes>"
      ]
     },
     "metadata": {
      "needs_background": "light"
     },
     "output_type": "display_data"
    }
   ],
   "source": [
    "plt.scatter(X[:, 0], X[:, -1])\n",
    "plt.xlabel('X Coordinates')\n",
    "plt.ylabel('Y Coordinates')\n",
    "plt.show()"
   ]
  },
  {
   "cell_type": "code",
   "execution_count": 3,
   "id": "b7703370-fd17-45ac-984d-e52048ee69fa",
   "metadata": {},
   "outputs": [
    {
     "data": {
      "text/plain": [
       "array([[-3.94965654, -5.02524924],\n",
       "       [ 8.46680329,  7.82075833],\n",
       "       [ 3.67784426,  1.33665044]])"
      ]
     },
     "execution_count": 3,
     "metadata": {},
     "output_type": "execute_result"
    }
   ],
   "source": [
    "# Specify the number of clusters (3) and fit the data X\n",
    "kmeans = KMeans(n_clusters=3, random_state=49).fit(X)\n",
    "\n",
    "# Get the cluster centroids\n",
    "kmeans.cluster_centers_"
   ]
  },
  {
   "cell_type": "code",
   "execution_count": 4,
   "id": "2dfc7965-6587-4aa0-a7c1-689a31efd00d",
   "metadata": {},
   "outputs": [
    {
     "data": {
      "text/plain": [
       "array([1, 1, 0, 2, 1, 1, 0, 2, 0, 2, 1, 2, 1, 0, 2, 2, 0, 1, 0, 1, 2, 2,\n",
       "       2, 1, 0, 1, 0, 2, 0, 2, 2, 2, 1, 2, 0, 1, 0, 2, 0, 2, 0, 1, 0, 1,\n",
       "       2, 0, 1, 0, 0, 0, 1, 1, 1, 0, 0, 0, 2, 2, 2, 1, 0, 2, 0, 1, 0, 0,\n",
       "       0, 2, 2, 2, 1, 1, 1, 0, 1, 2, 1, 1, 2, 1, 2, 0, 0, 1, 2, 0, 1, 1,\n",
       "       1, 2, 0, 0, 0, 2, 2, 1, 2, 2, 0, 1])"
      ]
     },
     "execution_count": 4,
     "metadata": {},
     "output_type": "execute_result"
    }
   ],
   "source": [
    "# Get the cluster labels\n",
    "kmeans.labels_"
   ]
  },
  {
   "cell_type": "code",
   "execution_count": 5,
   "id": "672daae6-632e-4ea1-98a2-5eb2accbe9ed",
   "metadata": {},
   "outputs": [
    {
     "data": {
      "image/png": "[encoded data removed]",
      "text/plain": [
       "<Figure size 432x288 with 1 Axes>"
      ]
     },
     "metadata": {
      "needs_background": "light"
     },
     "output_type": "display_data"
    }
   ],
   "source": [
    "# Plotting the cluster centers and the data points on a 2D plane\n",
    "plt.scatter(X[:, 0], X[:, -1])\n",
    "plt.scatter(kmeans.cluster_centers_[:, 0], kmeans.cluster_centers_[:, 1],c='red', marker='x')\n",
    "plt.title('Data points and cluster centroids')\n",
    "plt.show()"
   ]
  },
  {
   "cell_type": "markdown",
   "id": "bcd4c3a4-9d6b-405e-b76d-5ecb84ee5619",
   "metadata": {
    "tags": []
   },
   "source": [
    "# Task on diabetes dataset\n"
   ]
  },
  {
   "cell_type": "code",
   "execution_count": 6,
   "id": "1d6eff91-34a0-4454-accf-1f16f7067ea3",
   "metadata": {},
   "outputs": [
    {
     "name": "stdout",
     "output_type": "stream",
     "text": [
      "Features:  ['age', 'sex', 'bmi', 'bp', 's1', 's2', 's3', 's4', 's5', 's6']\n"
     ]
    }
   ],
   "source": [
    "from sklearn.datasets import load_diabetes\n",
    "from sklearn.model_selection import train_test_split\n",
    "from sklearn import metrics\n",
    "\n",
    "data = load_diabetes()\n",
    "print(\"Features: \", data.feature_names)"
   ]
  },
  {
   "cell_type": "code",
   "execution_count": 7,
   "id": "b1506448-61d9-49b1-b93b-0aa284a1fbad",
   "metadata": {},
   "outputs": [
    {
     "data": {
      "text/plain": [
       "array([151.,  75., 141., 206., 135.,  97., 138.,  63., 110., 310., 101.,\n",
       "        69., 179., 185., 118., 171., 166., 144.,  97., 168.,  68.,  49.,\n",
       "        68., 245., 184., 202., 137.,  85., 131., 283., 129.,  59., 341.,\n",
       "        87.,  65., 102., 265., 276., 252.,  90., 100.,  55.,  61.,  92.,\n",
       "       259.,  53., 190., 142.,  75., 142., 155., 225.,  59., 104., 182.,\n",
       "       128.,  52.,  37., 170., 170.,  61., 144.,  52., 128.,  71., 163.,\n",
       "       150.,  97., 160., 178.,  48., 270., 202., 111.,  85.,  42., 170.,\n",
       "       200., 252., 113., 143.,  51.,  52., 210.,  65., 141.,  55., 134.,\n",
       "        42., 111.,  98., 164.,  48.,  96.,  90., 162., 150., 279.,  92.,\n",
       "        83., 128., 102., 302., 198.,  95.,  53., 134., 144., 232.,  81.,\n",
       "       104.,  59., 246., 297., 258., 229., 275., 281., 179., 200., 200.,\n",
       "       173., 180.,  84., 121., 161.,  99., 109., 115., 268., 274., 158.,\n",
       "       107.,  83., 103., 272.,  85., 280., 336., 281., 118., 317., 235.,\n",
       "        60., 174., 259., 178., 128.,  96., 126., 288.,  88., 292.,  71.,\n",
       "       197., 186.,  25.,  84.,  96., 195.,  53., 217., 172., 131., 214.,\n",
       "        59.,  70., 220., 268., 152.,  47.,  74., 295., 101., 151., 127.,\n",
       "       237., 225.,  81., 151., 107.,  64., 138., 185., 265., 101., 137.,\n",
       "       143., 141.,  79., 292., 178.,  91., 116.,  86., 122.,  72., 129.,\n",
       "       142.,  90., 158.,  39., 196., 222., 277.,  99., 196., 202., 155.,\n",
       "        77., 191.,  70.,  73.,  49.,  65., 263., 248., 296., 214., 185.,\n",
       "        78.,  93., 252., 150.,  77., 208.,  77., 108., 160.,  53., 220.,\n",
       "       154., 259.,  90., 246., 124.,  67.,  72., 257., 262., 275., 177.,\n",
       "        71.,  47., 187., 125.,  78.,  51., 258., 215., 303., 243.,  91.,\n",
       "       150., 310., 153., 346.,  63.,  89.,  50.,  39., 103., 308., 116.,\n",
       "       145.,  74.,  45., 115., 264.,  87., 202., 127., 182., 241.,  66.,\n",
       "        94., 283.,  64., 102., 200., 265.,  94., 230., 181., 156., 233.,\n",
       "        60., 219.,  80.,  68., 332., 248.,  84., 200.,  55.,  85.,  89.,\n",
       "        31., 129.,  83., 275.,  65., 198., 236., 253., 124.,  44., 172.,\n",
       "       114., 142., 109., 180., 144., 163., 147.,  97., 220., 190., 109.,\n",
       "       191., 122., 230., 242., 248., 249., 192., 131., 237.,  78., 135.,\n",
       "       244., 199., 270., 164.,  72.,  96., 306.,  91., 214.,  95., 216.,\n",
       "       263., 178., 113., 200., 139., 139.,  88., 148.,  88., 243.,  71.,\n",
       "        77., 109., 272.,  60.,  54., 221.,  90., 311., 281., 182., 321.,\n",
       "        58., 262., 206., 233., 242., 123., 167.,  63., 197.,  71., 168.,\n",
       "       140., 217., 121., 235., 245.,  40.,  52., 104., 132.,  88.,  69.,\n",
       "       219.,  72., 201., 110.,  51., 277.,  63., 118.,  69., 273., 258.,\n",
       "        43., 198., 242., 232., 175.,  93., 168., 275., 293., 281.,  72.,\n",
       "       140., 189., 181., 209., 136., 261., 113., 131., 174., 257.,  55.,\n",
       "        84.,  42., 146., 212., 233.,  91., 111., 152., 120.,  67., 310.,\n",
       "        94., 183.,  66., 173.,  72.,  49.,  64.,  48., 178., 104., 132.,\n",
       "       220.,  57.])"
      ]
     },
     "execution_count": 7,
     "metadata": {},
     "output_type": "execute_result"
    }
   ],
   "source": [
    "features = data.data\n",
    "label = data.target\n",
    "label"
   ]
  },
  {
   "cell_type": "code",
   "execution_count": 8,
   "id": "18d50b49-1f1b-4104-9e12-e9e4aae24c3d",
   "metadata": {},
   "outputs": [
    {
     "data": {
      "image/png": "[encoded data removed]",
      "text/plain": [
       "<Figure size 432x288 with 1 Axes>"
      ]
     },
     "metadata": {
      "needs_background": "light"
     },
     "output_type": "display_data"
    }
   ],
   "source": [
    "# Scatter plot of the data points\n",
    "import matplotlib.pyplot as plt\n",
    "%matplotlib inline\n",
    "plt.scatter(features[:, 0], features[:, 1])\n",
    "plt.xlabel('X Coordinates')\n",
    "plt.ylabel('Y Coordinates')\n",
    "plt.show()"
   ]
  },
  {
   "cell_type": "code",
   "execution_count": 9,
   "id": "f75a069c-38f2-4bec-a5cd-42481e7026e3",
   "metadata": {},
   "outputs": [
    {
     "data": {
      "text/plain": [
       "array([[-0.01844267, -0.01531187, -0.02513676, -0.0208369 , -0.02591274,\n",
       "        -0.02764806,  0.02616323, -0.03547021, -0.03148758, -0.02550551],\n",
       "       [ 0.01726973,  0.0143446 ,  0.02320444,  0.01953734,  0.02239442,\n",
       "         0.02294583, -0.02433652,  0.03203816,  0.03091876,  0.02492325]])"
      ]
     },
     "execution_count": 9,
     "metadata": {},
     "output_type": "execute_result"
    }
   ],
   "source": [
    "data_train, data_test, target_train, target_test = train_test_split(features,\n",
    "label, test_size = 0.10, random_state = 49) \n",
    "\n",
    "# Specify the number of clusters (3) and fit the data X\n",
    "kmeans = KMeans(n_clusters=2, random_state=49).fit(data_train)\n",
    "\n",
    "# Get the cluster centroids\n",
    "kmeans.cluster_centers_"
   ]
  },
  {
   "cell_type": "code",
   "execution_count": 10,
   "id": "afb3c872-3d82-45de-9da3-664899e61188",
   "metadata": {},
   "outputs": [
    {
     "data": {
      "text/plain": [
       "array([1, 1, 1, 1, 1, 1, 1, 1, 1, 0, 0, 1, 0, 1, 0, 0, 1, 0, 0, 1, 1, 1,\n",
       "       0, 0, 1, 1, 0, 0, 0, 1, 0, 1, 0, 0, 1, 1, 1, 0, 0, 1, 0, 1, 1, 0,\n",
       "       1, 0, 1, 0, 1, 0, 1, 1, 1, 1, 0, 0, 0, 0, 0, 1, 1, 1, 1, 1, 1, 1,\n",
       "       0, 1, 0, 0, 0, 1, 1, 0, 1, 0, 1, 1, 0, 1, 0, 0, 1, 1, 1, 0, 1, 0,\n",
       "       0, 1, 0, 0, 0, 1, 1, 1, 0, 0, 0, 1, 0, 0, 0, 1, 1, 1, 0, 0, 0, 0,\n",
       "       0, 1, 0, 0, 0, 1, 0, 1, 1, 0, 1, 0, 0, 0, 1, 0, 1, 1, 1, 0, 1, 1,\n",
       "       0, 1, 1, 0, 0, 0, 0, 0, 1, 1, 1, 1, 1, 0, 1, 1, 0, 0, 1, 0, 1, 1,\n",
       "       0, 1, 1, 0, 0, 1, 0, 1, 1, 0, 1, 0, 0, 0, 0, 0, 1, 1, 0, 0, 1, 1,\n",
       "       0, 1, 0, 1, 1, 0, 1, 1, 1, 0, 0, 1, 0, 0, 1, 0, 1, 0, 1, 1, 1, 1,\n",
       "       0, 1, 0, 1, 1, 0, 1, 1, 1, 1, 1, 1, 0, 1, 1, 0, 0, 1, 1, 0, 1, 1,\n",
       "       0, 1, 0, 1, 1, 0, 0, 0, 0, 0, 0, 1, 1, 0, 1, 1, 1, 1, 1, 1, 0, 1,\n",
       "       0, 0, 1, 1, 0, 1, 1, 1, 0, 0, 1, 1, 0, 0, 1, 0, 0, 1, 1, 0, 1, 0,\n",
       "       0, 1, 0, 0, 1, 1, 0, 0, 0, 0, 1, 1, 1, 0, 0, 1, 1, 1, 0, 0, 0, 0,\n",
       "       0, 1, 0, 1, 1, 0, 0, 0, 0, 0, 0, 1, 0, 1, 0, 1, 1, 0, 0, 0, 1, 0,\n",
       "       1, 1, 1, 0, 0, 0, 0, 1, 1, 1, 1, 0, 0, 1, 1, 1, 0, 0, 0, 1, 1, 0,\n",
       "       0, 0, 1, 0, 0, 1, 0, 1, 0, 0, 1, 0, 0, 1, 0, 1, 1, 0, 0, 0, 1, 1,\n",
       "       1, 0, 1, 1, 0, 0, 1, 1, 1, 1, 1, 1, 0, 1, 0, 1, 0, 1, 1, 0, 0, 0,\n",
       "       0, 1, 0, 0, 0, 1, 1, 0, 0, 1, 0, 1, 1, 0, 0, 0, 0, 0, 0, 1, 1, 0,\n",
       "       1])"
      ]
     },
     "execution_count": 10,
     "metadata": {},
     "output_type": "execute_result"
    }
   ],
   "source": [
    "# Get the cluster labels\n",
    "kmeans.labels_"
   ]
  },
  {
   "cell_type": "code",
   "execution_count": null,
   "id": "5cf5629d-b9c3-4185-a9af-f56082cd2854",
   "metadata": {},
   "outputs": [],
   "source": []
  },
  {
   "cell_type": "code",
   "execution_count": 11,
   "id": "94a3d27c-12a7-4272-b462-a0d460a2001b",
   "metadata": {},
   "outputs": [
    {
     "data": {
      "image/png": "[encoded data removed]",
      "text/plain": [
       "<Figure size 432x288 with 1 Axes>"
      ]
     },
     "metadata": {
      "needs_background": "light"
     },
     "output_type": "display_data"
    }
   ],
   "source": [
    "# Plotting the cluster centers and the data points on a 2D plane\n",
    "plt.scatter(features[:, 0], features[:, 1])\n",
    "plt.scatter(kmeans.cluster_centers_[:, 0], kmeans.cluster_centers_[:, 1],c='red', marker='x')\n",
    "plt.title('Data points and cluster centroids')\n",
    "plt.show()"
   ]
  },
  {
   "cell_type": "code",
   "execution_count": 12,
   "id": "0a305737-924a-4d29-ad32-7b9cd4cb6ec6",
   "metadata": {},
   "outputs": [
    {
     "name": "stdout",
     "output_type": "stream",
     "text": [
      "0.23011498776848216\n"
     ]
    }
   ],
   "source": [
    "# Calculate silhouette_score\n",
    "from sklearn.metrics import silhouette_score\n",
    "print(silhouette_score(data_train, kmeans.labels_))"
   ]
  },
  {
   "cell_type": "code",
   "execution_count": 13,
   "id": "acecb369-c40d-4e4d-be04-2b73deecd5a4",
   "metadata": {},
   "outputs": [
    {
     "name": "stderr",
     "output_type": "stream",
     "text": [
      "WARNING: You are using pip version 21.3.1; however, version 22.0.3 is available.\n",
      "You should consider upgrading via the 'C:\\Users\\KENIL\\AppData\\Local\\Programs\\Python\\Python39\\python.exe -m pip install --upgrade pip' command.\n"
     ]
    },
    {
     "name": "stdout",
     "output_type": "stream",
     "text": [
      "Requirement already satisfied: yellowbrick in c:\\users\\kenil\\appdata\\local\\programs\\python\\python39\\lib\\site-packages (1.4)\n",
      "Requirement already satisfied: scikit-learn>=1.0.0 in c:\\users\\kenil\\appdata\\local\\programs\\python\\python39\\lib\\site-packages (from yellowbrick) (1.0.1)\n",
      "Requirement already satisfied: numpy>=1.16.0 in c:\\users\\kenil\\appdata\\local\\programs\\python\\python39\\lib\\site-packages (from yellowbrick) (1.21.4)\n",
      "Requirement already satisfied: matplotlib!=3.0.0,>=2.0.2 in c:\\users\\kenil\\appdata\\local\\programs\\python\\python39\\lib\\site-packages (from yellowbrick) (3.5.1)\n",
      "Requirement already satisfied: scipy>=1.0.0 in c:\\users\\kenil\\appdata\\local\\programs\\python\\python39\\lib\\site-packages (from yellowbrick) (1.7.3)\n",
      "Requirement already satisfied: cycler>=0.10.0 in c:\\users\\kenil\\appdata\\local\\programs\\python\\python39\\lib\\site-packages (from yellowbrick) (0.11.0)\n",
      "Requirement already satisfied: kiwisolver>=1.0.1 in c:\\users\\kenil\\appdata\\local\\programs\\python\\python39\\lib\\site-packages (from matplotlib!=3.0.0,>=2.0.2->yellowbrick) (1.3.2)\n",
      "Requirement already satisfied: pillow>=6.2.0 in c:\\users\\kenil\\appdata\\local\\programs\\python\\python39\\lib\\site-packages (from matplotlib!=3.0.0,>=2.0.2->yellowbrick) (8.4.0)\n",
      "Requirement already satisfied: pyparsing>=2.2.1 in c:\\users\\kenil\\appdata\\local\\programs\\python\\python39\\lib\\site-packages (from matplotlib!=3.0.0,>=2.0.2->yellowbrick) (3.0.6)\n",
      "Requirement already satisfied: packaging>=20.0 in c:\\users\\kenil\\appdata\\local\\programs\\python\\python39\\lib\\site-packages (from matplotlib!=3.0.0,>=2.0.2->yellowbrick) (21.3)\n",
      "Requirement already satisfied: python-dateutil>=2.7 in c:\\users\\kenil\\appdata\\local\\programs\\python\\python39\\lib\\site-packages (from matplotlib!=3.0.0,>=2.0.2->yellowbrick) (2.8.2)\n",
      "Requirement already satisfied: fonttools>=4.22.0 in c:\\users\\kenil\\appdata\\local\\programs\\python\\python39\\lib\\site-packages (from matplotlib!=3.0.0,>=2.0.2->yellowbrick) (4.28.4)\n",
      "Requirement already satisfied: threadpoolctl>=2.0.0 in c:\\users\\kenil\\appdata\\local\\programs\\python\\python39\\lib\\site-packages (from scikit-learn>=1.0.0->yellowbrick) (3.0.0)\n",
      "Requirement already satisfied: joblib>=0.11 in c:\\users\\kenil\\appdata\\local\\programs\\python\\python39\\lib\\site-packages (from scikit-learn>=1.0.0->yellowbrick) (1.1.0)\n",
      "Requirement already satisfied: six>=1.5 in c:\\users\\kenil\\appdata\\local\\programs\\python\\python39\\lib\\site-packages (from python-dateutil>=2.7->matplotlib!=3.0.0,>=2.0.2->yellowbrick) (1.16.0)\n"
     ]
    },
    {
     "data": {
      "image/png": "[encoded data removed]",
      "text/plain": [
       "<Figure size 576x396 with 1 Axes>"
      ]
     },
     "metadata": {},
     "output_type": "display_data"
    },
    {
     "data": {
      "text/plain": [
       "<AxesSubplot:title={'center':'Silhouette Score Elbow for KMeans Clustering'}, xlabel='k', ylabel='silhouette score'>"
      ]
     },
     "execution_count": 13,
     "metadata": {},
     "output_type": "execute_result"
    }
   ],
   "source": [
    "!pip install yellowbrick\n",
    "from yellowbrick.cluster import KElbowVisualizer\n",
    "# Instantiate a scikit-learn K-Means model\n",
    "model = KMeans(random_state=68)\n",
    "# Instantiate the KElbowVisualizer with the number of clusters and the metric\n",
    "visualizer = KElbowVisualizer(model,  k=(2,6), metric='silhouette',timings=False)\n",
    "# Fit the data and visualize\n",
    "visualizer.fit(data.data)\n",
    "visualizer.poof()"
   ]
  },
  {
   "cell_type": "markdown",
   "id": "afdec7b7-7340-4f5c-b64b-cb4600e57fb0",
   "metadata": {},
   "source": [
    "# Task on Iris Dataset"
   ]
  },
  {
   "cell_type": "code",
   "execution_count": 14,
   "id": "b3e6cc1f-482f-4ee2-8215-8f40ac08c590",
   "metadata": {},
   "outputs": [
    {
     "name": "stdout",
     "output_type": "stream",
     "text": [
      "Features:  ['sepal length (cm)', 'sepal width (cm)', 'petal length (cm)', 'petal width (cm)']\n"
     ]
    },
    {
     "data": {
      "text/plain": [
       "array(['setosa', 'versicolor', 'virginica'], dtype='<U10')"
      ]
     },
     "execution_count": 14,
     "metadata": {},
     "output_type": "execute_result"
    }
   ],
   "source": [
    "from sklearn.datasets import load_iris\n",
    "from sklearn.model_selection import train_test_split\n",
    "from sklearn import metrics\n",
    "\n",
    "data = load_iris()\n",
    "print(\"Features: \", data.feature_names)\n",
    "data.target_names"
   ]
  },
  {
   "cell_type": "code",
   "execution_count": 15,
   "id": "74af238b-5464-4aaf-ac64-5ea3d260d193",
   "metadata": {},
   "outputs": [],
   "source": [
    "features = data.data\n",
    "label = data.target"
   ]
  },
  {
   "cell_type": "code",
   "execution_count": 16,
   "id": "d400d113-7adc-45a6-954a-c1fe31dc1c72",
   "metadata": {},
   "outputs": [
    {
     "data": {
      "image/png": "[encoded data removed]",
      "text/plain": [
       "<Figure size 432x288 with 1 Axes>"
      ]
     },
     "metadata": {
      "needs_background": "light"
     },
     "output_type": "display_data"
    }
   ],
   "source": [
    "# Scatter plot of the data points\n",
    "import matplotlib.pyplot as plt\n",
    "%matplotlib inline\n",
    "plt.scatter(features[:, 0], features[:, -1])\n",
    "plt.xlabel('X Coordinates')\n",
    "plt.ylabel('Y Coordinates')\n",
    "plt.show()"
   ]
  },
  {
   "cell_type": "code",
   "execution_count": 17,
   "id": "a616fe60-4ce9-4b5b-bc3b-42d9f4bf9464",
   "metadata": {},
   "outputs": [
    {
     "data": {
      "text/plain": [
       "array([[5.00851064, 3.42765957, 1.45744681, 0.24255319],\n",
       "       [5.89821429, 2.76607143, 4.39642857, 1.44642857],\n",
       "       [6.846875  , 3.08125   , 5.7375    , 2.0875    ]])"
      ]
     },
     "execution_count": 17,
     "metadata": {},
     "output_type": "execute_result"
    }
   ],
   "source": [
    "data_train, data_test, target_train, target_test = train_test_split(features,\n",
    "label, test_size = 0.10, random_state = 49) \n",
    "\n",
    "# Specify the number of clusters (3) and fit the data X\n",
    "kmeans = KMeans(n_clusters=3, random_state=49).fit(data_train)\n",
    "\n",
    "# Get the cluster centroids\n",
    "kmeans.cluster_centers_"
   ]
  },
  {
   "cell_type": "code",
   "execution_count": 18,
   "id": "cb345fde-5c2e-4738-ac3d-054e8422bf6e",
   "metadata": {},
   "outputs": [
    {
     "data": {
      "text/plain": [
       "array([1, 1, 2, 1, 0, 0, 1, 0, 2, 0, 1, 1, 1, 0, 1, 0, 0, 1, 0, 1, 2, 0,\n",
       "       2, 2, 1, 0, 0, 2, 1, 1, 1, 1, 0, 2, 2, 2, 2, 1, 1, 1, 0, 1, 2, 1,\n",
       "       0, 0, 2, 1, 1, 0, 1, 1, 2, 1, 0, 0, 1, 0, 0, 2, 1, 0, 0, 0, 1, 1,\n",
       "       1, 1, 0, 0, 0, 0, 1, 1, 2, 2, 0, 0, 0, 0, 0, 2, 2, 1, 1, 0, 2, 0,\n",
       "       0, 0, 2, 1, 2, 2, 1, 1, 1, 0, 0, 1, 1, 1, 0, 1, 2, 1, 1, 0, 0, 2,\n",
       "       0, 2, 0, 2, 2, 0, 1, 1, 0, 1, 0, 1, 1, 1, 2, 1, 2, 1, 2, 0, 2, 1,\n",
       "       1, 2, 1])"
      ]
     },
     "execution_count": 18,
     "metadata": {},
     "output_type": "execute_result"
    }
   ],
   "source": [
    "# Get the cluster labels\n",
    "kmeans.labels_"
   ]
  },
  {
   "cell_type": "code",
   "execution_count": 19,
   "id": "f61a4f7c-c503-4f99-b176-9db467bcca29",
   "metadata": {},
   "outputs": [
    {
     "name": "stdout",
     "output_type": "stream",
     "text": [
      "0.5543315189672703\n"
     ]
    }
   ],
   "source": [
    "# Calculate silhouette_score\n",
    "from sklearn.metrics import silhouette_score\n",
    "print(silhouette_score(data_train, kmeans.labels_))"
   ]
  },
  {
   "cell_type": "code",
   "execution_count": 20,
   "id": "c214a8c0-e720-49e4-a5ac-529e6c449bae",
   "metadata": {},
   "outputs": [
    {
     "data": {
      "image/png": "[encoded data removed]",
      "text/plain": [
       "<Figure size 432x288 with 1 Axes>"
      ]
     },
     "metadata": {
      "needs_background": "light"
     },
     "output_type": "display_data"
    },
    {
     "data": {
      "text/plain": [
       "<AxesSubplot:title={'center':'Silhouette Score Elbow for KMeans Clustering'}, xlabel='k', ylabel='silhouette score'>"
      ]
     },
     "execution_count": 20,
     "metadata": {},
     "output_type": "execute_result"
    }
   ],
   "source": [
    "from yellowbrick.cluster import KElbowVisualizer\n",
    "# Instantiate a scikit-learn K-Means model\n",
    "model = KMeans(random_state=49)\n",
    "# Instantiate the KElbowVisualizer with the number of clusters and the metric\n",
    "visualizer = KElbowVisualizer(model,  k=(2,6), metric='silhouette',timings=False)\n",
    "# Fit the data and visualize\n",
    "visualizer.fit(data.data)\n",
    "visualizer.poof()"
   ]
  },
  {
   "cell_type": "code",
   "execution_count": 21,
   "id": "eb8962df-ce85-4e75-8783-f03fa329470a",
   "metadata": {},
   "outputs": [
    {
     "data": {
      "image/png": "[encoded data removed]",
      "text/plain": [
       "<Figure size 432x288 with 1 Axes>"
      ]
     },
     "metadata": {
      "needs_background": "light"
     },
     "output_type": "display_data"
    }
   ],
   "source": [
    "# Plotting the cluster centers and the data points on a 2D plane\n",
    "plt.scatter(features[:, 0], features[:, -1])\n",
    "plt.scatter(kmeans.cluster_centers_[:, 0], kmeans.cluster_centers_[:, -1],c='red', marker='x')\n",
    "plt.title('Data points and cluster centroids')\n",
    "plt.show()"
   ]
  },
  {
   "cell_type": "code",
   "execution_count": null,
   "id": "b050b98a-676d-4bae-8660-bc45dea88134",
   "metadata": {},
   "outputs": [],
   "source": []
  }
 ],
 "metadata": {
  "kernelspec": {
   "display_name": "Python 3 (ipykernel)",
   "language": "python",
   "name": "python3"
  },
  "language_info": {
   "codemirror_mode": {
    "name": "ipython",
    "version": 3
   },
   "file_extension": ".py",
   "mimetype": "text/x-python",
   "name": "python",
   "nbconvert_exporter": "python",
   "pygments_lexer": "ipython3",
   "version": "3.9.5"
  }
 },
 "nbformat": 4,
 "nbformat_minor": 5
}
