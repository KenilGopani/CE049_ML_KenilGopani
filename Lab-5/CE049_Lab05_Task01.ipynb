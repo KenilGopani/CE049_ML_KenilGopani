{
 "cells": [
  {
   "cell_type": "markdown",
   "id": "9baa15e1",
   "metadata": {},
   "source": [
    "## Name: Gopani Kenil G. \n",
    "## Roll No: CE049 \n",
    "## ID: 19CEUOS080\n",
    "##  Lab-5\n",
    "\n",
    "### Task 1: \n",
    "#### Try the algo on Same Weather dataset - LabelEncoding of features: and Train test Division 80%-20% with Gini Index as attribute selection measure"
   ]
  },
  {
   "cell_type": "code",
   "execution_count": 1,
   "id": "d238d3d8",
   "metadata": {},
   "outputs": [],
   "source": [
    "import pandas as pd\n",
    "import numpy as np\n",
    "from sklearn import preprocessing\n",
    "from sklearn.tree import DecisionTreeClassifier"
   ]
  },
  {
   "cell_type": "code",
   "execution_count": 2,
   "id": "b3b8c0c8",
   "metadata": {},
   "outputs": [],
   "source": [
    "#Predictor variables\n",
    "Outlook = ['Rainy', 'Rainy', 'Overcast', 'Sunny', 'Sunny', 'Sunny','Overcast',\n",
    "           'Rainy', 'Rainy', 'Sunny', 'Rainy','Overcast', 'Overcast','Sunny']\n",
    "Temperature = ['Hot', 'Hot', 'Hot', 'Mild', 'Cool', 'Cool', 'Cool',\n",
    "               'Mild', 'Cool', 'Mild', 'Mild', 'Mild', 'Hot', 'Mild']\n",
    "Humidity = ['High', 'High', 'High', 'High', 'Normal', 'Normal', 'Normal',\n",
    "            'High', 'Normal', 'Normal', 'Normal', 'High', 'Normal','High']\n",
    "Wind = ['False', 'True', 'False', 'False', 'False', 'True', 'True',\n",
    "        'False', 'False', 'False', 'True', 'True', 'False', 'True']\n",
    "\n",
    "#Class Label:\n",
    "Play = ['No', 'No', 'Yes', 'Yes', 'Yes', 'No', 'Yes', 'No',\n",
    "        'Yes', 'Yes', 'Yes', 'Yes', 'Yes', 'No']"
   ]
  },
  {
   "cell_type": "markdown",
   "id": "2060bd90",
   "metadata": {},
   "source": [
    "### Label Encoding"
   ]
  },
  {
   "cell_type": "code",
   "execution_count": 3,
   "id": "4e153d25",
   "metadata": {},
   "outputs": [
    {
     "name": "stdout",
     "output_type": "stream",
     "text": [
      "Outllok mapping: {'Overcast': 0, 'Rainy': 1, 'Sunny': 2}\n",
      "Temperature mapping: {'Cool': 0, 'Hot': 1, 'Mild': 2}\n",
      "Humidity mapping: {'High': 0, 'Normal': 1}\n",
      "Wind mapping: {'False': 0, 'True': 1}\n",
      "Play mapping: {'No': 0, 'Yes': 1}\n",
      "\n",
      "\n",
      "\n",
      "Weather: [1 1 0 2 2 2 0 1 1 2 1 0 0 2]\n",
      "Temerature: [1 1 1 2 0 0 0 2 0 2 2 2 1 2]\n",
      "Humidity: [0 0 0 0 1 1 1 0 1 1 1 0 1 0]\n",
      "Wind: [0 1 0 0 0 1 1 0 0 0 1 1 0 1]\n",
      "Play: [0 0 1 1 1 0 1 0 1 1 1 1 1 0]\n"
     ]
    }
   ],
   "source": [
    "#creating labelEncoder\n",
    "le = preprocessing.LabelEncoder()\n",
    "\n",
    "# Converting string labels into numbers.\n",
    "Outlook_encoded = le.fit_transform(Outlook)\n",
    "Outlook_name_mapping = dict(zip(le.classes_, le.transform(le.classes_)))\n",
    "print(\"Outllok mapping:\",Outlook_name_mapping)\n",
    "\n",
    "Temperature_encoded = le.fit_transform(Temperature)\n",
    "Temperature_name_mapping = dict(zip(le.classes_, le.transform(le.classes_)))\n",
    "print(\"Temperature mapping:\",Temperature_name_mapping)\n",
    "\n",
    "Humidity_encoded = le.fit_transform(Humidity)\n",
    "Humidity_name_mapping = dict(zip(le.classes_, le.transform(le.classes_)))\n",
    "print(\"Humidity mapping:\",Humidity_name_mapping)\n",
    "\n",
    "Wind_encoded = le.fit_transform(Wind)\n",
    "Wind_name_mapping = dict(zip(le.classes_, le.transform(le.classes_)))\n",
    "print(\"Wind mapping:\",Wind_name_mapping)\n",
    "\n",
    "Play_encoded = le.fit_transform(Play)\n",
    "Play_name_mapping = dict(zip(le.classes_, le.transform(le.classes_)))\n",
    "print(\"Play mapping:\",Play_name_mapping)\n",
    "\n",
    "print(\"\\n\\n\")\n",
    "print(\"Weather:\" ,Outlook_encoded)\n",
    "print(\"Temerature:\" ,Temperature_encoded)\n",
    "print(\"Humidity:\" ,Humidity_encoded)\n",
    "print(\"Wind:\" ,Wind_encoded)\n",
    "print(\"Play:\" ,Play_encoded)"
   ]
  },
  {
   "cell_type": "markdown",
   "id": "092a3221",
   "metadata": {},
   "source": [
    "### Merge different features to prepare dataset"
   ]
  },
  {
   "cell_type": "code",
   "execution_count": 4,
   "id": "e27df3cc",
   "metadata": {},
   "outputs": [
    {
     "data": {
      "text/html": [
       "<div>\n",
       "<style scoped>\n",
       "    .dataframe tbody tr th:only-of-type {\n",
       "        vertical-align: middle;\n",
       "    }\n",
       "\n",
       "    .dataframe tbody tr th {\n",
       "        vertical-align: top;\n",
       "    }\n",
       "\n",
       "    .dataframe thead th {\n",
       "        text-align: right;\n",
       "    }\n",
       "</style>\n",
       "<table border=\"1\" class=\"dataframe\">\n",
       "  <thead>\n",
       "    <tr style=\"text-align: right;\">\n",
       "      <th></th>\n",
       "      <th>Outlook</th>\n",
       "      <th>Temperature</th>\n",
       "      <th>Humidity</th>\n",
       "      <th>Wind</th>\n",
       "      <th>Play</th>\n",
       "    </tr>\n",
       "  </thead>\n",
       "  <tbody>\n",
       "    <tr>\n",
       "      <th>0</th>\n",
       "      <td>1</td>\n",
       "      <td>1</td>\n",
       "      <td>0</td>\n",
       "      <td>0</td>\n",
       "      <td>0</td>\n",
       "    </tr>\n",
       "    <tr>\n",
       "      <th>1</th>\n",
       "      <td>1</td>\n",
       "      <td>1</td>\n",
       "      <td>0</td>\n",
       "      <td>1</td>\n",
       "      <td>0</td>\n",
       "    </tr>\n",
       "    <tr>\n",
       "      <th>2</th>\n",
       "      <td>0</td>\n",
       "      <td>1</td>\n",
       "      <td>0</td>\n",
       "      <td>0</td>\n",
       "      <td>1</td>\n",
       "    </tr>\n",
       "    <tr>\n",
       "      <th>3</th>\n",
       "      <td>2</td>\n",
       "      <td>2</td>\n",
       "      <td>0</td>\n",
       "      <td>0</td>\n",
       "      <td>1</td>\n",
       "    </tr>\n",
       "    <tr>\n",
       "      <th>4</th>\n",
       "      <td>2</td>\n",
       "      <td>0</td>\n",
       "      <td>1</td>\n",
       "      <td>0</td>\n",
       "      <td>1</td>\n",
       "    </tr>\n",
       "    <tr>\n",
       "      <th>5</th>\n",
       "      <td>2</td>\n",
       "      <td>0</td>\n",
       "      <td>1</td>\n",
       "      <td>1</td>\n",
       "      <td>0</td>\n",
       "    </tr>\n",
       "    <tr>\n",
       "      <th>6</th>\n",
       "      <td>0</td>\n",
       "      <td>0</td>\n",
       "      <td>1</td>\n",
       "      <td>1</td>\n",
       "      <td>1</td>\n",
       "    </tr>\n",
       "    <tr>\n",
       "      <th>7</th>\n",
       "      <td>1</td>\n",
       "      <td>2</td>\n",
       "      <td>0</td>\n",
       "      <td>0</td>\n",
       "      <td>0</td>\n",
       "    </tr>\n",
       "    <tr>\n",
       "      <th>8</th>\n",
       "      <td>1</td>\n",
       "      <td>0</td>\n",
       "      <td>1</td>\n",
       "      <td>0</td>\n",
       "      <td>1</td>\n",
       "    </tr>\n",
       "    <tr>\n",
       "      <th>9</th>\n",
       "      <td>2</td>\n",
       "      <td>2</td>\n",
       "      <td>1</td>\n",
       "      <td>0</td>\n",
       "      <td>1</td>\n",
       "    </tr>\n",
       "    <tr>\n",
       "      <th>10</th>\n",
       "      <td>1</td>\n",
       "      <td>2</td>\n",
       "      <td>1</td>\n",
       "      <td>1</td>\n",
       "      <td>1</td>\n",
       "    </tr>\n",
       "    <tr>\n",
       "      <th>11</th>\n",
       "      <td>0</td>\n",
       "      <td>2</td>\n",
       "      <td>0</td>\n",
       "      <td>1</td>\n",
       "      <td>1</td>\n",
       "    </tr>\n",
       "    <tr>\n",
       "      <th>12</th>\n",
       "      <td>0</td>\n",
       "      <td>1</td>\n",
       "      <td>1</td>\n",
       "      <td>0</td>\n",
       "      <td>1</td>\n",
       "    </tr>\n",
       "    <tr>\n",
       "      <th>13</th>\n",
       "      <td>2</td>\n",
       "      <td>2</td>\n",
       "      <td>0</td>\n",
       "      <td>1</td>\n",
       "      <td>0</td>\n",
       "    </tr>\n",
       "  </tbody>\n",
       "</table>\n",
       "</div>"
      ],
      "text/plain": [
       "    Outlook  Temperature  Humidity  Wind  Play\n",
       "0         1            1         0     0     0\n",
       "1         1            1         0     1     0\n",
       "2         0            1         0     0     1\n",
       "3         2            2         0     0     1\n",
       "4         2            0         1     0     1\n",
       "5         2            0         1     1     0\n",
       "6         0            0         1     1     1\n",
       "7         1            2         0     0     0\n",
       "8         1            0         1     0     1\n",
       "9         2            2         1     0     1\n",
       "10        1            2         1     1     1\n",
       "11        0            2         0     1     1\n",
       "12        0            1         1     0     1\n",
       "13        2            2         0     1     0"
      ]
     },
     "execution_count": 4,
     "metadata": {},
     "output_type": "execute_result"
    }
   ],
   "source": [
    "attr = {'Outlook':Outlook_encoded, 'Temperature':Temperature_encoded, 'Humidity':Humidity_encoded,\n",
    "            'Wind':Wind_encoded, 'Play':Play_encoded}\n",
    "dataset = pd.DataFrame(attr)\n",
    "dataset"
   ]
  },
  {
   "cell_type": "markdown",
   "id": "b3093d67",
   "metadata": {},
   "source": [
    "### Spliting dataset"
   ]
  },
  {
   "cell_type": "code",
   "execution_count": 5,
   "id": "e9878935",
   "metadata": {},
   "outputs": [],
   "source": [
    "from sklearn.model_selection import train_test_split\n",
    "\n",
    "X = dataset.values[:,:-1]\n",
    "Y = dataset.values[:,-1:]\n",
    "\n",
    "# Train test Division 80%-20%\n",
    "X_train, X_test, y_train, y_test = train_test_split(X, Y, test_size = 0.2, random_state = 49)"
   ]
  },
  {
   "cell_type": "markdown",
   "id": "3addb056",
   "metadata": {},
   "source": [
    "### Train ’Create and Train DecisionTreeClassifier’"
   ]
  },
  {
   "cell_type": "code",
   "execution_count": 6,
   "id": "85894843",
   "metadata": {},
   "outputs": [
    {
     "data": {
      "text/plain": [
       "DecisionTreeClassifier(max_depth=49, min_samples_leaf=5, random_state=49)"
      ]
     },
     "execution_count": 6,
     "metadata": {},
     "output_type": "execute_result"
    }
   ],
   "source": [
    "classifier = DecisionTreeClassifier(criterion = \"gini\", random_state = 49, max_depth=49, min_samples_leaf=5)\n",
    "\n",
    "classifier.fit(X_train, y_train)"
   ]
  },
  {
   "cell_type": "code",
   "execution_count": 7,
   "id": "fad3acf9",
   "metadata": {},
   "outputs": [
    {
     "data": {
      "text/plain": [
       "array([0, 0, 1], dtype=int64)"
      ]
     },
     "execution_count": 7,
     "metadata": {},
     "output_type": "execute_result"
    }
   ],
   "source": [
    "# make prediction\n",
    "y_pred = classifier.predict(X_test)\n",
    "y_pred"
   ]
  },
  {
   "cell_type": "code",
   "execution_count": 8,
   "id": "4714b74f",
   "metadata": {},
   "outputs": [
    {
     "name": "stdout",
     "output_type": "stream",
     "text": [
      "Accuracy :  0.6666666666666666\n",
      "Precision :  1.0\n",
      "Recall :  0.5\n"
     ]
    }
   ],
   "source": [
    "from sklearn import metrics\n",
    "\n",
    "# Accuracy\n",
    "accuracy = metrics.accuracy_score(y_test,y_pred)\n",
    "print('Accuracy : ',accuracy)\n",
    "\n",
    "# Precision\n",
    "precision = metrics.precision_score(y_test,y_pred)\n",
    "print('Precision : ',precision)\n",
    "\n",
    "# Recall\n",
    "recall = metrics.recall_score(y_test,y_pred)\n",
    "print('Recall : ',recall)"
   ]
  },
  {
   "cell_type": "markdown",
   "id": "3662db7c",
   "metadata": {},
   "source": [
    "### Predict output for new data"
   ]
  },
  {
   "cell_type": "code",
   "execution_count": 9,
   "id": "5adccd59",
   "metadata": {},
   "outputs": [
    {
     "data": {
      "text/plain": [
       "array([1], dtype=int64)"
      ]
     },
     "execution_count": 9,
     "metadata": {},
     "output_type": "execute_result"
    }
   ],
   "source": [
    "# What will be the value of Play, if Outlook is ’Rainy’, Temperature is ’Mild’, Humidity =’Normal’, and Wind = ’False’?\n",
    "\n",
    "classifier.predict([[1,2,1,0]])"
   ]
  },
  {
   "cell_type": "code",
   "execution_count": 10,
   "id": "ff6ece2b",
   "metadata": {},
   "outputs": [
    {
     "data": {
      "text/plain": [
       "array([0], dtype=int64)"
      ]
     },
     "execution_count": 10,
     "metadata": {},
     "output_type": "execute_result"
    }
   ],
   "source": [
    "# What will be the value of Play, if Outlook is ’Sunny’, Temeprature is ’Cool’, Humidity=’High’, and Wind = ’True’?\n",
    "\n",
    "classifier.predict([[2,0,0,1]])"
   ]
  },
  {
   "cell_type": "code",
   "execution_count": null,
   "id": "37dea5b3",
   "metadata": {},
   "outputs": [],
   "source": []
  }
 ],
 "metadata": {
  "kernelspec": {
   "display_name": "Python 3 (ipykernel)",
   "language": "python",
   "name": "python3"
  },
  "language_info": {
   "codemirror_mode": {
    "name": "ipython",
    "version": 3
   },
   "file_extension": ".py",
   "mimetype": "text/x-python",
   "name": "python",
   "nbconvert_exporter": "python",
   "pygments_lexer": "ipython3",
   "version": "3.9.5"
  }
 },
 "nbformat": 4,
 "nbformat_minor": 5
}
