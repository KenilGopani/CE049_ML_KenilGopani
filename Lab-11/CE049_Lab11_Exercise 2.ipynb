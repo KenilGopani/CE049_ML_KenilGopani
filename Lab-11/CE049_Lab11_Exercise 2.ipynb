{
 "cells": [
  {
   "cell_type": "markdown",
   "id": "d091f38c",
   "metadata": {},
   "source": [
    "## Name: Gopani Kenil G. \n",
    "## Roll No: CE049 \n",
    "## ID: 19CEUOS080\n",
    "##  Lab-11\n",
    "\n",
    "### Try SVM classifier on MNIST dataset, compare the performance of linear, polynomial and RBF kernels."
   ]
  },
  {
   "cell_type": "code",
   "execution_count": 1,
   "id": "eb568313",
   "metadata": {},
   "outputs": [],
   "source": [
    "import numpy as np\n",
    "import pandas as pd\n",
    "from sklearn import svm\n",
    "import matplotlib.pyplot as plt\n",
    "from sklearn.model_selection import train_test_split\n",
    "from sklearn.metrics import accuracy_score"
   ]
  },
  {
   "cell_type": "code",
   "execution_count": 2,
   "id": "98a76a3c",
   "metadata": {},
   "outputs": [
    {
     "name": "stdout",
     "output_type": "stream",
     "text": [
      "(60000, 784)\n",
      "(10000, 784)\n",
      "(60000,)\n",
      "(10000,)\n"
     ]
    }
   ],
   "source": [
    "from tensorflow.keras.datasets import mnist\n",
    "(features_train, targets_train), (features_test, targets_test) = mnist.load_data()\n",
    "features_train, features_test = features_train.reshape([-1, 784]), features_test.reshape([-1, 784])\n",
    "features_train, features_test = features_train / 255., features_test / 255.\n",
    "print(features_train.shape)\n",
    "print(features_test.shape)\n",
    "print(targets_train.shape)\n",
    "print(targets_test.shape)"
   ]
  },
  {
   "cell_type": "code",
   "execution_count": 3,
   "id": "860f3e02",
   "metadata": {},
   "outputs": [
    {
     "name": "stdout",
     "output_type": "stream",
     "text": [
      "[7 2 1 ... 4 5 6]\n",
      "Accuracy - 92.19000000000001%\n"
     ]
    }
   ],
   "source": [
    "svm_classifier = svm.SVC(kernel='linear')\n",
    "svm_classifier.fit(features_train[:15000], targets_train[:15000])\n",
    "prediction = svm_classifier.predict(features_test)\n",
    "print(prediction)\n",
    "print(\"Accuracy - {}%\".format(accuracy_score(y_pred=prediction, y_true=targets_test)*100))"
   ]
  },
  {
   "cell_type": "code",
   "execution_count": 4,
   "id": "f61ee586",
   "metadata": {},
   "outputs": [
    {
     "name": "stdout",
     "output_type": "stream",
     "text": [
      "[7 2 1 ... 4 5 6]\n",
      "Accuracy - 96.09%\n"
     ]
    }
   ],
   "source": [
    "svm_classifier = svm.SVC(kernel='poly')\n",
    "svm_classifier.fit(features_train[:15000], targets_train[:15000])\n",
    "prediction = svm_classifier.predict(features_test)\n",
    "print(prediction)\n",
    "print(\"Accuracy - {}%\".format(accuracy_score(y_pred=prediction, y_true=targets_test)*100))"
   ]
  },
  {
   "cell_type": "code",
   "execution_count": 5,
   "id": "fdafa8c7",
   "metadata": {},
   "outputs": [
    {
     "name": "stdout",
     "output_type": "stream",
     "text": [
      "[7 2 1 ... 4 5 6]\n",
      "Accuracy - 96.67%\n"
     ]
    }
   ],
   "source": [
    "svm_classifier = svm.SVC(kernel='rbf')\n",
    "svm_classifier.fit(features_train[:15000], targets_train[:15000])\n",
    "prediction = svm_classifier.predict(features_test)\n",
    "print(prediction)\n",
    "print(\"Accuracy - {}%\".format(accuracy_score(y_pred=prediction, y_true=targets_test)*100))"
   ]
  }
 ],
 "metadata": {
  "kernelspec": {
   "display_name": "Python 3 (ipykernel)",
   "language": "python",
   "name": "python3"
  },
  "language_info": {
   "codemirror_mode": {
    "name": "ipython",
    "version": 3
   },
   "file_extension": ".py",
   "mimetype": "text/x-python",
   "name": "python",
   "nbconvert_exporter": "python",
   "pygments_lexer": "ipython3",
   "version": "3.9.5"
  }
 },
 "nbformat": 4,
 "nbformat_minor": 5
}
