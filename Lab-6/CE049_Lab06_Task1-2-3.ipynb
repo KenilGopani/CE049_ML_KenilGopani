{
 "cells": [
  {
   "cell_type": "markdown",
   "id": "1537a209",
   "metadata": {},
   "source": [
    "## Name: Gopani Kenil G. \n",
    "## Roll No: CE049 \n",
    "## ID: 19CEUOS080\n",
    "##  Lab-6\n",
    "\n",
    "#### Task 1 : Train the Naive Bayes model without PCA and compare the result with PCA + Naive Bayes. Write down your observations."
   ]
  },
  {
   "cell_type": "code",
   "execution_count": 2,
   "id": "62cb2e33",
   "metadata": {},
   "outputs": [],
   "source": [
    "import pandas as pd\n",
    "import numpy as np\n",
    "from matplotlib import pyplot as plt\n",
    "from sklearn import datasets\n",
    "from sklearn.naive_bayes import GaussianNB\n",
    "from sklearn.model_selection import train_test_split\n",
    "from sklearn.preprocessing import StandardScaler\n",
    "from sklearn import metrics\n",
    "from sklearn.decomposition import PCA"
   ]
  },
  {
   "cell_type": "code",
   "execution_count": 3,
   "id": "6fff77fb",
   "metadata": {},
   "outputs": [],
   "source": [
    "# Loading Dataset\n",
    "dataset = datasets.load_digits()\n",
    "\n",
    "x = pd.DataFrame(dataset.data,columns=dataset.feature_names)\n",
    "y = dataset.target"
   ]
  },
  {
   "cell_type": "code",
   "execution_count": 4,
   "id": "0f1d4298",
   "metadata": {},
   "outputs": [
    {
     "name": "stdout",
     "output_type": "stream",
     "text": [
      "(1797, 64)\n"
     ]
    }
   ],
   "source": [
    "# Scaling Data\n",
    "scaler = StandardScaler()\n",
    "\n",
    "x = scaler.fit_transform(x)\n",
    "print(x.shape)"
   ]
  },
  {
   "cell_type": "code",
   "execution_count": 5,
   "id": "bdd64619",
   "metadata": {},
   "outputs": [
    {
     "name": "stdout",
     "output_type": "stream",
     "text": [
      "Accuracy:  0.825\n",
      "\n",
      "              precision    recall  f1-score   support\n",
      "\n",
      "           0       0.97      1.00      0.98        30\n",
      "           1       0.80      0.81      0.80        43\n",
      "           2       1.00      0.52      0.69        44\n",
      "           3       0.76      0.89      0.82        28\n",
      "           4       0.97      0.82      0.89        39\n",
      "           5       0.74      0.94      0.83        34\n",
      "           6       0.95      0.97      0.96        36\n",
      "           7       0.70      0.97      0.82        32\n",
      "           8       0.67      0.81      0.73        37\n",
      "           9       0.89      0.65      0.75        37\n",
      "\n",
      "    accuracy                           0.82       360\n",
      "   macro avg       0.84      0.84      0.83       360\n",
      "weighted avg       0.85      0.82      0.82       360\n",
      "\n"
     ]
    }
   ],
   "source": [
    "# without PCA - Train naive bayes\n",
    "\n",
    "# Splitting dataset\n",
    "x_train, x_test, y_train, y_test = train_test_split(x, y, test_size = 0.20, random_state=49)\n",
    "\n",
    "gnb = GaussianNB()\n",
    "gnb.fit(x_train, y_train)\n",
    "\n",
    "y_pred = gnb.predict(x_test)\n",
    "\n",
    "print(\"Accuracy: \", metrics.accuracy_score(y_test, y_pred))\n",
    "print()\n",
    "print(metrics.classification_report(y_test, y_pred))"
   ]
  },
  {
   "cell_type": "code",
   "execution_count": 6,
   "id": "685b6ef9",
   "metadata": {},
   "outputs": [
    {
     "name": "stdout",
     "output_type": "stream",
     "text": [
      "Shape of x_pca :  (1797, 25)\n",
      "\n",
      "Accuracy:  0.9138888888888889\n",
      "\n",
      "              precision    recall  f1-score   support\n",
      "\n",
      "           0       1.00      0.97      0.98        30\n",
      "           1       0.84      0.98      0.90        43\n",
      "           2       0.86      0.82      0.84        44\n",
      "           3       0.80      0.86      0.83        28\n",
      "           4       1.00      0.90      0.95        39\n",
      "           5       1.00      0.94      0.97        34\n",
      "           6       0.97      0.92      0.94        36\n",
      "           7       0.91      0.97      0.94        32\n",
      "           8       0.94      0.92      0.93        37\n",
      "           9       0.87      0.89      0.88        37\n",
      "\n",
      "    accuracy                           0.91       360\n",
      "   macro avg       0.92      0.92      0.92       360\n",
      "weighted avg       0.92      0.91      0.91       360\n",
      "\n"
     ]
    }
   ],
   "source": [
    "# With PCA - Train naive bayes\n",
    "\n",
    "pca = PCA(n_components=25)\n",
    "\n",
    "x_pca = pca.fit_transform(x)\n",
    "print(\"Shape of x_pca : \", x_pca.shape)\n",
    "\n",
    "# Splitting data\n",
    "x_train_pca, x_test_pca, y_train_pca, y_test_pca = train_test_split(x_pca, y, test_size=0.20, random_state=49)\n",
    "\n",
    "# Train model\n",
    "gnb = GaussianNB()\n",
    "gnb.fit(x_train_pca, y_train_pca)\n",
    "\n",
    "y_pred_pca =  gnb.predict(x_test_pca)\n",
    "\n",
    "# Accuracy\n",
    "print()\n",
    "print(\"Accuracy: \", metrics.accuracy_score(y_test_pca, y_pred_pca))\n",
    "print()\n",
    "print(metrics.classification_report(y_test_pca, y_pred_pca))"
   ]
  },
  {
   "cell_type": "markdown",
   "id": "d0d21fd9",
   "metadata": {},
   "source": [
    "#### TASK- 2 : Run PCA on IRIS dataset. Visualise the output in 2 dimensions using to Principal components. Choose different pairs of principal components and note down your observations."
   ]
  },
  {
   "cell_type": "code",
   "execution_count": 7,
   "id": "0459a40c",
   "metadata": {},
   "outputs": [
    {
     "name": "stdout",
     "output_type": "stream",
     "text": [
      "Features : \n",
      "\n",
      "      sepal length (cm)  sepal width (cm)  petal length (cm)  petal width (cm)\n",
      "0                  5.1               3.5                1.4               0.2\n",
      "1                  4.9               3.0                1.4               0.2\n",
      "2                  4.7               3.2                1.3               0.2\n",
      "3                  4.6               3.1                1.5               0.2\n",
      "4                  5.0               3.6                1.4               0.2\n",
      "..                 ...               ...                ...               ...\n",
      "145                6.7               3.0                5.2               2.3\n",
      "146                6.3               2.5                5.0               1.9\n",
      "147                6.5               3.0                5.2               2.0\n",
      "148                6.2               3.4                5.4               2.3\n",
      "149                5.9               3.0                5.1               1.8\n",
      "\n",
      "[150 rows x 4 columns]\n",
      "\n",
      "Labels : \n",
      "\n",
      " [0 0 0 0 0 0 0 0 0 0 0 0 0 0 0 0 0 0 0 0 0 0 0 0 0 0 0 0 0 0 0 0 0 0 0 0 0\n",
      " 0 0 0 0 0 0 0 0 0 0 0 0 0 1 1 1 1 1 1 1 1 1 1 1 1 1 1 1 1 1 1 1 1 1 1 1 1\n",
      " 1 1 1 1 1 1 1 1 1 1 1 1 1 1 1 1 1 1 1 1 1 1 1 1 1 1 2 2 2 2 2 2 2 2 2 2 2\n",
      " 2 2 2 2 2 2 2 2 2 2 2 2 2 2 2 2 2 2 2 2 2 2 2 2 2 2 2 2 2 2 2 2 2 2 2 2 2\n",
      " 2 2]\n"
     ]
    }
   ],
   "source": [
    "# Load IRIS Dataset\n",
    "dataset = datasets.load_iris()\n",
    "\n",
    "x = pd.DataFrame(dataset.data, columns=dataset.feature_names)\n",
    "y = dataset.target\n",
    "\n",
    "print(\"Features : \\n\\n\", x)\n",
    "print()\n",
    "print(\"Labels : \\n\\n\", y)"
   ]
  },
  {
   "cell_type": "code",
   "execution_count": 8,
   "id": "f6767aaa",
   "metadata": {},
   "outputs": [
    {
     "data": {
      "image/png": "[encoded data removed]",
      "text/plain": [
       "<Figure size 432x288 with 1 Axes>"
      ]
     },
     "metadata": {
      "needs_background": "light"
     },
     "output_type": "display_data"
    }
   ],
   "source": [
    "pca = PCA(n_components=2, whiten=True)\n",
    "\n",
    "x_pca = pca.fit_transform(x)\n",
    "\n",
    "x_pca = pd.DataFrame(data=x_pca, columns=['PC1','PC2'])\n",
    "plt.scatter(x_pca.PC1, x_pca.PC2)\n",
    "plt.show()\n"
   ]
  },
  {
   "cell_type": "markdown",
   "id": "e77f7789",
   "metadata": {},
   "source": [
    "#### TASK - 3 : Run PCA + Naive Bayes classifier on IRIS dataset and calculate precision and recall of the system"
   ]
  },
  {
   "cell_type": "code",
   "execution_count": 9,
   "id": "64d10db6",
   "metadata": {},
   "outputs": [
    {
     "name": "stdout",
     "output_type": "stream",
     "text": [
      "\n",
      "Accuracy:  0.8333333333333334\n",
      "\n",
      "              precision    recall  f1-score   support\n",
      "\n",
      "           0       1.00      1.00      1.00         8\n",
      "           1       0.69      0.90      0.78        10\n",
      "           2       0.89      0.67      0.76        12\n",
      "\n",
      "    accuracy                           0.83        30\n",
      "   macro avg       0.86      0.86      0.85        30\n",
      "weighted avg       0.85      0.83      0.83        30\n",
      "\n"
     ]
    }
   ],
   "source": [
    "# Splitting Data\n",
    "x_train_pca, x_test_pca, y_train_pca, y_test_pca = train_test_split(x_pca, y, test_size=0.20, random_state=49)\n",
    "\n",
    "# Train model\n",
    "gnb = GaussianNB()\n",
    "gnb.fit(x_train_pca, y_train_pca)\n",
    "\n",
    "y_pred_pca =  gnb.predict(x_test_pca)\n",
    "\n",
    "# Accuracy\n",
    "print()\n",
    "print(\"Accuracy: \", metrics.accuracy_score(y_test_pca, y_pred_pca))\n",
    "print()\n",
    "print(metrics.classification_report(y_test_pca, y_pred_pca))"
   ]
  }
 ],
 "metadata": {
  "kernelspec": {
   "display_name": "Python 3 (ipykernel)",
   "language": "python",
   "name": "python3"
  },
  "language_info": {
   "codemirror_mode": {
    "name": "ipython",
    "version": 3
   },
   "file_extension": ".py",
   "mimetype": "text/x-python",
   "name": "python",
   "nbconvert_exporter": "python",
   "pygments_lexer": "ipython3",
   "version": "3.9.5"
  }
 },
 "nbformat": 4,
 "nbformat_minor": 5
}
